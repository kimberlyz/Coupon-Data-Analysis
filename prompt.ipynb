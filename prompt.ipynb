{
 "cells": [
  {
   "cell_type": "markdown",
   "metadata": {
    "id": "CcUT6Fon_qRE"
   },
   "source": [
    "### Required Assignment 5.1: Will the Customer Accept the Coupon?\n",
    "\n",
    "**Context**\n",
    "\n",
    "Imagine driving through town and a coupon is delivered to your cell phone for a restaurant near where you are driving. Would you accept that coupon and take a short detour to the restaurant? Would you accept the coupon but use it on a subsequent trip? Would you ignore the coupon entirely? What if the coupon was for a bar instead of a restaurant? What about a coffee house? Would you accept a bar coupon with a minor passenger in the car? What about if it was just you and your partner in the car? Would weather impact the rate of acceptance? What about the time of day?\n",
    "\n",
    "Obviously, proximity to the business is a factor on whether the coupon is delivered to the driver or not, but what are the factors that determine whether a driver accepts the coupon once it is delivered to them? How would you determine whether a driver is likely to accept a coupon?\n",
    "\n",
    "**Overview**\n",
    "\n",
    "The goal of this project is to use what you know about visualizations and probability distributions to distinguish between customers who accepted a driving coupon versus those that did not.\n",
    "\n",
    "**Data**\n",
    "\n",
    "This data comes to us from the UCI Machine Learning repository and was collected via a survey on Amazon Mechanical Turk. The survey describes different driving scenarios including the destination, current time, weather, passenger, etc., and then ask the person whether he will accept the coupon if he is the driver. Answers that the user will drive there ‘right away’ or ‘later before the coupon expires’ are labeled as ‘Y = 1’ and answers ‘no, I do not want the coupon’ are labeled as ‘Y = 0’.  There are five different types of coupons -- less expensive restaurants (under \\$20), coffee houses, carry out & take away, bar, and more expensive restaurants (\\$20 - $50)."
   ]
  },
  {
   "cell_type": "markdown",
   "metadata": {
    "id": "1wORvMBJ_qRF"
   },
   "source": [
    "**Deliverables**\n",
    "\n",
    "Your final product should be a brief report that highlights the differences between customers who did and did not accept the coupons.  To explore the data you will utilize your knowledge of plotting, statistical summaries, and visualization using Python. You will publish your findings in a public facing github repository as your first portfolio piece.\n",
    "\n",
    "\n",
    "\n"
   ]
  },
  {
   "cell_type": "markdown",
   "metadata": {
    "id": "pG6_Ym6q_qRG"
   },
   "source": [
    "### Data Description\n",
    "Keep in mind that these values mentioned below are average values.\n",
    "\n",
    "The attributes of this data set include:\n",
    "1. User attributes\n",
    "    -  Gender: male, female\n",
    "    -  Age: below 21, 21 to 25, 26 to 30, etc.\n",
    "    -  Marital Status: single, married partner, unmarried partner, or widowed\n",
    "    -  Number of children: 0, 1, or more than 1\n",
    "    -  Education: high school, bachelors degree, associates degree, or graduate degree\n",
    "    -  Occupation: architecture & engineering, business & financial, etc.\n",
    "    -  Annual income: less than \\\\$12500, \\\\$12500 - \\\\$24999, \\\\$25000 - \\\\$37499, etc.\n",
    "    -  Number of times that he/she goes to a bar: 0, less than 1, 1 to 3, 4 to 8 or greater than 8\n",
    "    -  Number of times that he/she buys takeaway food: 0, less than 1, 1 to 3, 4 to 8 or greater\n",
    "    than 8\n",
    "    -  Number of times that he/she goes to a coffee house: 0, less than 1, 1 to 3, 4 to 8 or\n",
    "    greater than 8\n",
    "    -  Number of times that he/she eats at a restaurant with average expense less than \\\\$20 per\n",
    "    person: 0, less than 1, 1 to 3, 4 to 8 or greater than 8\n",
    "    -  Number of times that he/she goes to a bar: 0, less than 1, 1 to 3, 4 to 8 or greater than 8\n",
    "    \n",
    "\n",
    "2. Contextual attributes\n",
    "    - Driving destination: home, work, or no urgent destination\n",
    "    - Location of user, coupon and destination: we provide a map to show the geographical\n",
    "    location of the user, destination, and the venue, and we mark the distance between each\n",
    "    two places with time of driving. The user can see whether the venue is in the same\n",
    "    direction as the destination.\n",
    "    - Weather: sunny, rainy, or snowy\n",
    "    - Temperature: 30F, 55F, or 80F\n",
    "    - Time: 10AM, 2PM, or 6PM\n",
    "    - Passenger: alone, partner, kid(s), or friend(s)\n",
    "\n",
    "\n",
    "3. Coupon attributes\n",
    "    - time before it expires: 2 hours or one day"
   ]
  },
  {
   "cell_type": "code",
   "execution_count": 4,
   "metadata": {
    "id": "dzNoP3o__qRG"
   },
   "outputs": [],
   "source": [
    "import matplotlib.pyplot as plt\n",
    "import seaborn as sns\n",
    "import pandas as pd\n",
    "import numpy as np"
   ]
  },
  {
   "cell_type": "markdown",
   "metadata": {
    "id": "Ct8pI1uE_qRG"
   },
   "source": [
    "### Problems\n",
    "\n",
    "Use the prompts below to get started with your data analysis.  \n",
    "\n",
    "1. Read in the `coupons.csv` file.\n",
    "\n",
    "\n"
   ]
  },
  {
   "cell_type": "code",
   "execution_count": 6,
   "metadata": {
    "id": "X0vbffYg_qRH"
   },
   "outputs": [],
   "source": [
    "data = pd.read_csv('data/coupons.csv')"
   ]
  },
  {
   "cell_type": "code",
   "execution_count": 7,
   "metadata": {
    "id": "TXofQ_DF_qRH",
    "outputId": "2fc96a2c-1112-4b54-f24f-dbb9bc88abfb"
   },
   "outputs": [
    {
     "data": {
      "text/html": [
       "<div>\n",
       "<style scoped>\n",
       "    .dataframe tbody tr th:only-of-type {\n",
       "        vertical-align: middle;\n",
       "    }\n",
       "\n",
       "    .dataframe tbody tr th {\n",
       "        vertical-align: top;\n",
       "    }\n",
       "\n",
       "    .dataframe thead th {\n",
       "        text-align: right;\n",
       "    }\n",
       "</style>\n",
       "<table border=\"1\" class=\"dataframe\">\n",
       "  <thead>\n",
       "    <tr style=\"text-align: right;\">\n",
       "      <th></th>\n",
       "      <th>destination</th>\n",
       "      <th>passanger</th>\n",
       "      <th>weather</th>\n",
       "      <th>temperature</th>\n",
       "      <th>time</th>\n",
       "      <th>coupon</th>\n",
       "      <th>expiration</th>\n",
       "      <th>gender</th>\n",
       "      <th>age</th>\n",
       "      <th>maritalStatus</th>\n",
       "      <th>...</th>\n",
       "      <th>CoffeeHouse</th>\n",
       "      <th>CarryAway</th>\n",
       "      <th>RestaurantLessThan20</th>\n",
       "      <th>Restaurant20To50</th>\n",
       "      <th>toCoupon_GEQ5min</th>\n",
       "      <th>toCoupon_GEQ15min</th>\n",
       "      <th>toCoupon_GEQ25min</th>\n",
       "      <th>direction_same</th>\n",
       "      <th>direction_opp</th>\n",
       "      <th>Y</th>\n",
       "    </tr>\n",
       "  </thead>\n",
       "  <tbody>\n",
       "    <tr>\n",
       "      <th>0</th>\n",
       "      <td>No Urgent Place</td>\n",
       "      <td>Alone</td>\n",
       "      <td>Sunny</td>\n",
       "      <td>55</td>\n",
       "      <td>2PM</td>\n",
       "      <td>Restaurant(&lt;20)</td>\n",
       "      <td>1d</td>\n",
       "      <td>Female</td>\n",
       "      <td>21</td>\n",
       "      <td>Unmarried partner</td>\n",
       "      <td>...</td>\n",
       "      <td>never</td>\n",
       "      <td>NaN</td>\n",
       "      <td>4~8</td>\n",
       "      <td>1~3</td>\n",
       "      <td>1</td>\n",
       "      <td>0</td>\n",
       "      <td>0</td>\n",
       "      <td>0</td>\n",
       "      <td>1</td>\n",
       "      <td>1</td>\n",
       "    </tr>\n",
       "    <tr>\n",
       "      <th>1</th>\n",
       "      <td>No Urgent Place</td>\n",
       "      <td>Friend(s)</td>\n",
       "      <td>Sunny</td>\n",
       "      <td>80</td>\n",
       "      <td>10AM</td>\n",
       "      <td>Coffee House</td>\n",
       "      <td>2h</td>\n",
       "      <td>Female</td>\n",
       "      <td>21</td>\n",
       "      <td>Unmarried partner</td>\n",
       "      <td>...</td>\n",
       "      <td>never</td>\n",
       "      <td>NaN</td>\n",
       "      <td>4~8</td>\n",
       "      <td>1~3</td>\n",
       "      <td>1</td>\n",
       "      <td>0</td>\n",
       "      <td>0</td>\n",
       "      <td>0</td>\n",
       "      <td>1</td>\n",
       "      <td>0</td>\n",
       "    </tr>\n",
       "    <tr>\n",
       "      <th>2</th>\n",
       "      <td>No Urgent Place</td>\n",
       "      <td>Friend(s)</td>\n",
       "      <td>Sunny</td>\n",
       "      <td>80</td>\n",
       "      <td>10AM</td>\n",
       "      <td>Carry out &amp; Take away</td>\n",
       "      <td>2h</td>\n",
       "      <td>Female</td>\n",
       "      <td>21</td>\n",
       "      <td>Unmarried partner</td>\n",
       "      <td>...</td>\n",
       "      <td>never</td>\n",
       "      <td>NaN</td>\n",
       "      <td>4~8</td>\n",
       "      <td>1~3</td>\n",
       "      <td>1</td>\n",
       "      <td>1</td>\n",
       "      <td>0</td>\n",
       "      <td>0</td>\n",
       "      <td>1</td>\n",
       "      <td>1</td>\n",
       "    </tr>\n",
       "    <tr>\n",
       "      <th>3</th>\n",
       "      <td>No Urgent Place</td>\n",
       "      <td>Friend(s)</td>\n",
       "      <td>Sunny</td>\n",
       "      <td>80</td>\n",
       "      <td>2PM</td>\n",
       "      <td>Coffee House</td>\n",
       "      <td>2h</td>\n",
       "      <td>Female</td>\n",
       "      <td>21</td>\n",
       "      <td>Unmarried partner</td>\n",
       "      <td>...</td>\n",
       "      <td>never</td>\n",
       "      <td>NaN</td>\n",
       "      <td>4~8</td>\n",
       "      <td>1~3</td>\n",
       "      <td>1</td>\n",
       "      <td>1</td>\n",
       "      <td>0</td>\n",
       "      <td>0</td>\n",
       "      <td>1</td>\n",
       "      <td>0</td>\n",
       "    </tr>\n",
       "    <tr>\n",
       "      <th>4</th>\n",
       "      <td>No Urgent Place</td>\n",
       "      <td>Friend(s)</td>\n",
       "      <td>Sunny</td>\n",
       "      <td>80</td>\n",
       "      <td>2PM</td>\n",
       "      <td>Coffee House</td>\n",
       "      <td>1d</td>\n",
       "      <td>Female</td>\n",
       "      <td>21</td>\n",
       "      <td>Unmarried partner</td>\n",
       "      <td>...</td>\n",
       "      <td>never</td>\n",
       "      <td>NaN</td>\n",
       "      <td>4~8</td>\n",
       "      <td>1~3</td>\n",
       "      <td>1</td>\n",
       "      <td>1</td>\n",
       "      <td>0</td>\n",
       "      <td>0</td>\n",
       "      <td>1</td>\n",
       "      <td>0</td>\n",
       "    </tr>\n",
       "  </tbody>\n",
       "</table>\n",
       "<p>5 rows × 26 columns</p>\n",
       "</div>"
      ],
      "text/plain": [
       "       destination  passanger weather  temperature  time  \\\n",
       "0  No Urgent Place      Alone   Sunny           55   2PM   \n",
       "1  No Urgent Place  Friend(s)   Sunny           80  10AM   \n",
       "2  No Urgent Place  Friend(s)   Sunny           80  10AM   \n",
       "3  No Urgent Place  Friend(s)   Sunny           80   2PM   \n",
       "4  No Urgent Place  Friend(s)   Sunny           80   2PM   \n",
       "\n",
       "                  coupon expiration  gender age      maritalStatus  ...  \\\n",
       "0        Restaurant(<20)         1d  Female  21  Unmarried partner  ...   \n",
       "1           Coffee House         2h  Female  21  Unmarried partner  ...   \n",
       "2  Carry out & Take away         2h  Female  21  Unmarried partner  ...   \n",
       "3           Coffee House         2h  Female  21  Unmarried partner  ...   \n",
       "4           Coffee House         1d  Female  21  Unmarried partner  ...   \n",
       "\n",
       "   CoffeeHouse CarryAway RestaurantLessThan20 Restaurant20To50  \\\n",
       "0        never       NaN                  4~8              1~3   \n",
       "1        never       NaN                  4~8              1~3   \n",
       "2        never       NaN                  4~8              1~3   \n",
       "3        never       NaN                  4~8              1~3   \n",
       "4        never       NaN                  4~8              1~3   \n",
       "\n",
       "  toCoupon_GEQ5min toCoupon_GEQ15min toCoupon_GEQ25min direction_same  \\\n",
       "0                1                 0                 0              0   \n",
       "1                1                 0                 0              0   \n",
       "2                1                 1                 0              0   \n",
       "3                1                 1                 0              0   \n",
       "4                1                 1                 0              0   \n",
       "\n",
       "  direction_opp  Y  \n",
       "0             1  1  \n",
       "1             1  0  \n",
       "2             1  1  \n",
       "3             1  0  \n",
       "4             1  0  \n",
       "\n",
       "[5 rows x 26 columns]"
      ]
     },
     "execution_count": 7,
     "metadata": {},
     "output_type": "execute_result"
    }
   ],
   "source": [
    "data.head()"
   ]
  },
  {
   "cell_type": "markdown",
   "metadata": {
    "id": "GcDs78ZH_qRH"
   },
   "source": [
    "2. Investigate the dataset for missing or problematic data."
   ]
  },
  {
   "cell_type": "markdown",
   "metadata": {},
   "source": [
    "#### Step 1. Get general idea of the table with .info()"
   ]
  },
  {
   "cell_type": "code",
   "execution_count": 10,
   "metadata": {
    "id": "6CwL6oWj_qRH"
   },
   "outputs": [
    {
     "name": "stdout",
     "output_type": "stream",
     "text": [
      "<class 'pandas.core.frame.DataFrame'>\n",
      "RangeIndex: 12684 entries, 0 to 12683\n",
      "Data columns (total 26 columns):\n",
      " #   Column                Non-Null Count  Dtype \n",
      "---  ------                --------------  ----- \n",
      " 0   destination           12684 non-null  object\n",
      " 1   passanger             12684 non-null  object\n",
      " 2   weather               12684 non-null  object\n",
      " 3   temperature           12684 non-null  int64 \n",
      " 4   time                  12684 non-null  object\n",
      " 5   coupon                12684 non-null  object\n",
      " 6   expiration            12684 non-null  object\n",
      " 7   gender                12684 non-null  object\n",
      " 8   age                   12684 non-null  object\n",
      " 9   maritalStatus         12684 non-null  object\n",
      " 10  has_children          12684 non-null  int64 \n",
      " 11  education             12684 non-null  object\n",
      " 12  occupation            12684 non-null  object\n",
      " 13  income                12684 non-null  object\n",
      " 14  car                   108 non-null    object\n",
      " 15  Bar                   12577 non-null  object\n",
      " 16  CoffeeHouse           12467 non-null  object\n",
      " 17  CarryAway             12533 non-null  object\n",
      " 18  RestaurantLessThan20  12554 non-null  object\n",
      " 19  Restaurant20To50      12495 non-null  object\n",
      " 20  toCoupon_GEQ5min      12684 non-null  int64 \n",
      " 21  toCoupon_GEQ15min     12684 non-null  int64 \n",
      " 22  toCoupon_GEQ25min     12684 non-null  int64 \n",
      " 23  direction_same        12684 non-null  int64 \n",
      " 24  direction_opp         12684 non-null  int64 \n",
      " 25  Y                     12684 non-null  int64 \n",
      "dtypes: int64(8), object(18)\n",
      "memory usage: 2.5+ MB\n"
     ]
    }
   ],
   "source": [
    "data.info()"
   ]
  },
  {
   "cell_type": "markdown",
   "metadata": {},
   "source": [
    "#### Step 2. Investigate null value column data"
   ]
  },
  {
   "cell_type": "markdown",
   "metadata": {},
   "source": [
    "From the step above, we see that the following columns have missing values \n",
    "```\n",
    " 14  car                   108 non-null    object\n",
    " 15  Bar                   12577 non-null  object\n",
    " 16  CoffeeHouse           12467 non-null  object\n",
    " 17  CarryAway             12533 non-null  object\n",
    " 18  RestaurantLessThan20  12554 non-null  object\n",
    " 19  Restaurant20To50      12495 non-null  object\n",
    "```"
   ]
  },
  {
   "cell_type": "markdown",
   "metadata": {},
   "source": [
    "#### Step 3. Investigate Duplicate Values"
   ]
  },
  {
   "cell_type": "code",
   "execution_count": 14,
   "metadata": {},
   "outputs": [
    {
     "data": {
      "text/plain": [
       "74"
      ]
     },
     "execution_count": 14,
     "metadata": {},
     "output_type": "execute_result"
    }
   ],
   "source": [
    "data.duplicated().sum()"
   ]
  },
  {
   "cell_type": "markdown",
   "metadata": {},
   "source": [
    "#### Step 4. Investigate data values for each column to see if they make sense"
   ]
  },
  {
   "cell_type": "code",
   "execution_count": 16,
   "metadata": {},
   "outputs": [
    {
     "name": "stdout",
     "output_type": "stream",
     "text": [
      "destination\n",
      "No Urgent Place    6283\n",
      "Home               3237\n",
      "Work               3164\n",
      "Name: count, dtype: int64 \n",
      "\n",
      "passanger\n",
      "Alone        7305\n",
      "Friend(s)    3298\n",
      "Partner      1075\n",
      "Kid(s)       1006\n",
      "Name: count, dtype: int64 \n",
      "\n",
      "weather\n",
      "Sunny    10069\n",
      "Snowy     1405\n",
      "Rainy     1210\n",
      "Name: count, dtype: int64 \n",
      "\n",
      "temperature\n",
      "80    6528\n",
      "55    3840\n",
      "30    2316\n",
      "Name: count, dtype: int64 \n",
      "\n",
      "time\n",
      "6PM     3230\n",
      "7AM     3164\n",
      "10AM    2275\n",
      "2PM     2009\n",
      "10PM    2006\n",
      "Name: count, dtype: int64 \n",
      "\n",
      "coupon\n",
      "Coffee House             3996\n",
      "Restaurant(<20)          2786\n",
      "Carry out & Take away    2393\n",
      "Bar                      2017\n",
      "Restaurant(20-50)        1492\n",
      "Name: count, dtype: int64 \n",
      "\n",
      "expiration\n",
      "1d    7091\n",
      "2h    5593\n",
      "Name: count, dtype: int64 \n",
      "\n",
      "gender\n",
      "Female    6511\n",
      "Male      6173\n",
      "Name: count, dtype: int64 \n",
      "\n",
      "age\n",
      "21         2653\n",
      "26         2559\n",
      "31         2039\n",
      "50plus     1788\n",
      "36         1319\n",
      "41         1093\n",
      "46          686\n",
      "below21     547\n",
      "Name: count, dtype: int64 \n",
      "\n",
      "maritalStatus\n",
      "Married partner      5100\n",
      "Single               4752\n",
      "Unmarried partner    2186\n",
      "Divorced              516\n",
      "Widowed               130\n",
      "Name: count, dtype: int64 \n",
      "\n",
      "has_children\n",
      "0    7431\n",
      "1    5253\n",
      "Name: count, dtype: int64 \n",
      "\n",
      "education\n",
      "Some college - no degree                  4351\n",
      "Bachelors degree                          4335\n",
      "Graduate degree (Masters or Doctorate)    1852\n",
      "Associates degree                         1153\n",
      "High School Graduate                       905\n",
      "Some High School                            88\n",
      "Name: count, dtype: int64 \n",
      "\n",
      "occupation\n",
      "Unemployed                                   1870\n",
      "Student                                      1584\n",
      "Computer & Mathematical                      1408\n",
      "Sales & Related                              1093\n",
      "Education&Training&Library                    943\n",
      "Management                                    838\n",
      "Office & Administrative Support               639\n",
      "Arts Design Entertainment Sports & Media      629\n",
      "Business & Financial                          544\n",
      "Retired                                       495\n",
      "Food Preparation & Serving Related            298\n",
      "Healthcare Practitioners & Technical          244\n",
      "Healthcare Support                            242\n",
      "Community & Social Services                   241\n",
      "Legal                                         219\n",
      "Transportation & Material Moving              218\n",
      "Architecture & Engineering                    175\n",
      "Personal Care & Service                       175\n",
      "Protective Service                            175\n",
      "Life Physical Social Science                  170\n",
      "Construction & Extraction                     154\n",
      "Installation Maintenance & Repair             133\n",
      "Production Occupations                        110\n",
      "Building & Grounds Cleaning & Maintenance      44\n",
      "Farming Fishing & Forestry                     43\n",
      "Name: count, dtype: int64 \n",
      "\n",
      "income\n",
      "$25000 - $37499     2013\n",
      "$12500 - $24999     1831\n",
      "$37500 - $49999     1805\n",
      "$100000 or More     1736\n",
      "$50000 - $62499     1659\n",
      "Less than $12500    1042\n",
      "$87500 - $99999      895\n",
      "$75000 - $87499      857\n",
      "$62500 - $74999      846\n",
      "Name: count, dtype: int64 \n",
      "\n",
      "car\n",
      "Scooter and motorcycle                      22\n",
      "Mazda5                                      22\n",
      "do not drive                                22\n",
      "crossover                                   21\n",
      "Car that is too old to install Onstar :D    21\n",
      "Name: count, dtype: int64 \n",
      "\n",
      "Bar\n",
      "never    5197\n",
      "less1    3482\n",
      "1~3      2473\n",
      "4~8      1076\n",
      "gt8       349\n",
      "Name: count, dtype: int64 \n",
      "\n",
      "CoffeeHouse\n",
      "less1    3385\n",
      "1~3      3225\n",
      "never    2962\n",
      "4~8      1784\n",
      "gt8      1111\n",
      "Name: count, dtype: int64 \n",
      "\n",
      "CarryAway\n",
      "1~3      4672\n",
      "4~8      4258\n",
      "less1    1856\n",
      "gt8      1594\n",
      "never     153\n",
      "Name: count, dtype: int64 \n",
      "\n",
      "RestaurantLessThan20\n",
      "1~3      5376\n",
      "4~8      3580\n",
      "less1    2093\n",
      "gt8      1285\n",
      "never     220\n",
      "Name: count, dtype: int64 \n",
      "\n",
      "Restaurant20To50\n",
      "less1    6077\n",
      "1~3      3290\n",
      "never    2136\n",
      "4~8       728\n",
      "gt8       264\n",
      "Name: count, dtype: int64 \n",
      "\n",
      "toCoupon_GEQ5min\n",
      "1    12684\n",
      "Name: count, dtype: int64 \n",
      "\n",
      "toCoupon_GEQ15min\n",
      "1    7122\n",
      "0    5562\n",
      "Name: count, dtype: int64 \n",
      "\n",
      "toCoupon_GEQ25min\n",
      "0    11173\n",
      "1     1511\n",
      "Name: count, dtype: int64 \n",
      "\n",
      "direction_same\n",
      "0    9960\n",
      "1    2724\n",
      "Name: count, dtype: int64 \n",
      "\n",
      "direction_opp\n",
      "1    9960\n",
      "0    2724\n",
      "Name: count, dtype: int64 \n",
      "\n",
      "Y\n",
      "1    7210\n",
      "0    5474\n",
      "Name: count, dtype: int64 \n",
      "\n"
     ]
    }
   ],
   "source": [
    "for col in data.columns:\n",
    "    print(data[col].value_counts(), '\\n')"
   ]
  },
  {
   "cell_type": "markdown",
   "metadata": {
    "id": "bSdVSpYB_qRH"
   },
   "source": [
    "3. Decide what to do about your missing data -- drop, replace, other..."
   ]
  },
  {
   "cell_type": "markdown",
   "metadata": {},
   "source": [
    "#### Dropping duplicate values: \n",
    "From Step 2 in Q2 above, we see there are 74 duplicate values out of 12684, which accounts for only .58% of the data. \n",
    "We are hypothesizing these are accidentally re-submitted / counted values for the same person because it is\n",
    "unlikely that the same exact factors across all the columns apply to different people. Thus, let's remove these duplicate values."
   ]
  },
  {
   "cell_type": "code",
   "execution_count": 19,
   "metadata": {},
   "outputs": [],
   "source": [
    "cleaned_data = data.drop_duplicates()"
   ]
  },
  {
   "cell_type": "code",
   "execution_count": 20,
   "metadata": {},
   "outputs": [
    {
     "data": {
      "text/plain": [
       "12610"
      ]
     },
     "execution_count": 20,
     "metadata": {},
     "output_type": "execute_result"
    }
   ],
   "source": [
    "len(cleaned_data)"
   ]
  },
  {
   "cell_type": "markdown",
   "metadata": {},
   "source": [
    "#### Dropping columns with mostly missing data:\n",
    "There are now 12610 rows remaining after dropping the duplicates. \n",
    "From Step 2 in Q2 above, we can see there is a lot of missing data in the car column. Only 108 out of 12610 rows have car data, which is equivalent to only 0.86% of the data. Thus, we can just drop this column since there's not enough information to yield valuable insights."
   ]
  },
  {
   "cell_type": "code",
   "execution_count": 22,
   "metadata": {},
   "outputs": [],
   "source": [
    "cleaned_data = data.drop(columns=['car'])"
   ]
  },
  {
   "cell_type": "markdown",
   "metadata": {},
   "source": [
    "#### Dropping rows with NaN in them: \n",
    "Now, let's take a look at the percentage of rows that have a NaN value in them"
   ]
  },
  {
   "cell_type": "code",
   "execution_count": 24,
   "metadata": {},
   "outputs": [
    {
     "name": "stdout",
     "output_type": "stream",
     "text": [
      "Number of rows with NaN: 605\n",
      "Percentage of rows with NaN: 4.77%\n"
     ]
    }
   ],
   "source": [
    "# Counting the number of rows with a NaN value\n",
    "num_rows_with_nan = cleaned_data.isnull().any(axis=1).sum() \n",
    "print(f'Number of rows with NaN: {num_rows_with_nan}')\n",
    "\n",
    "# Percentage of rows with NaN\n",
    "percentage_of_rows_with_nan = num_rows_with_nan / len(cleaned_data) * 100\n",
    "print(f'Percentage of rows with NaN: {percentage_of_rows_with_nan:.2f}%')"
   ]
  },
  {
   "cell_type": "markdown",
   "metadata": {},
   "source": [
    "Because the percentage of rows containing an NaN value is < 5% of all the data, I think it's okay to drop those rows as there's still enough rows left to analyze"
   ]
  },
  {
   "cell_type": "code",
   "execution_count": 26,
   "metadata": {},
   "outputs": [],
   "source": [
    "cleaned_data = cleaned_data.dropna()"
   ]
  },
  {
   "cell_type": "markdown",
   "metadata": {},
   "source": [
    "#### Final Table After Data Cleaning Steps\n",
    "1. Removed Duplicates\n",
    "2. Removed Car column\n",
    "3. Removed Rows with NaN in them"
   ]
  },
  {
   "cell_type": "code",
   "execution_count": 28,
   "metadata": {},
   "outputs": [
    {
     "data": {
      "text/html": [
       "<div>\n",
       "<style scoped>\n",
       "    .dataframe tbody tr th:only-of-type {\n",
       "        vertical-align: middle;\n",
       "    }\n",
       "\n",
       "    .dataframe tbody tr th {\n",
       "        vertical-align: top;\n",
       "    }\n",
       "\n",
       "    .dataframe thead th {\n",
       "        text-align: right;\n",
       "    }\n",
       "</style>\n",
       "<table border=\"1\" class=\"dataframe\">\n",
       "  <thead>\n",
       "    <tr style=\"text-align: right;\">\n",
       "      <th></th>\n",
       "      <th>destination</th>\n",
       "      <th>passanger</th>\n",
       "      <th>weather</th>\n",
       "      <th>temperature</th>\n",
       "      <th>time</th>\n",
       "      <th>coupon</th>\n",
       "      <th>expiration</th>\n",
       "      <th>gender</th>\n",
       "      <th>age</th>\n",
       "      <th>maritalStatus</th>\n",
       "      <th>...</th>\n",
       "      <th>CoffeeHouse</th>\n",
       "      <th>CarryAway</th>\n",
       "      <th>RestaurantLessThan20</th>\n",
       "      <th>Restaurant20To50</th>\n",
       "      <th>toCoupon_GEQ5min</th>\n",
       "      <th>toCoupon_GEQ15min</th>\n",
       "      <th>toCoupon_GEQ25min</th>\n",
       "      <th>direction_same</th>\n",
       "      <th>direction_opp</th>\n",
       "      <th>Y</th>\n",
       "    </tr>\n",
       "  </thead>\n",
       "  <tbody>\n",
       "    <tr>\n",
       "      <th>22</th>\n",
       "      <td>No Urgent Place</td>\n",
       "      <td>Alone</td>\n",
       "      <td>Sunny</td>\n",
       "      <td>55</td>\n",
       "      <td>2PM</td>\n",
       "      <td>Restaurant(&lt;20)</td>\n",
       "      <td>1d</td>\n",
       "      <td>Male</td>\n",
       "      <td>21</td>\n",
       "      <td>Single</td>\n",
       "      <td>...</td>\n",
       "      <td>less1</td>\n",
       "      <td>4~8</td>\n",
       "      <td>4~8</td>\n",
       "      <td>less1</td>\n",
       "      <td>1</td>\n",
       "      <td>0</td>\n",
       "      <td>0</td>\n",
       "      <td>0</td>\n",
       "      <td>1</td>\n",
       "      <td>1</td>\n",
       "    </tr>\n",
       "    <tr>\n",
       "      <th>23</th>\n",
       "      <td>No Urgent Place</td>\n",
       "      <td>Friend(s)</td>\n",
       "      <td>Sunny</td>\n",
       "      <td>80</td>\n",
       "      <td>10AM</td>\n",
       "      <td>Coffee House</td>\n",
       "      <td>2h</td>\n",
       "      <td>Male</td>\n",
       "      <td>21</td>\n",
       "      <td>Single</td>\n",
       "      <td>...</td>\n",
       "      <td>less1</td>\n",
       "      <td>4~8</td>\n",
       "      <td>4~8</td>\n",
       "      <td>less1</td>\n",
       "      <td>1</td>\n",
       "      <td>0</td>\n",
       "      <td>0</td>\n",
       "      <td>0</td>\n",
       "      <td>1</td>\n",
       "      <td>0</td>\n",
       "    </tr>\n",
       "    <tr>\n",
       "      <th>24</th>\n",
       "      <td>No Urgent Place</td>\n",
       "      <td>Friend(s)</td>\n",
       "      <td>Sunny</td>\n",
       "      <td>80</td>\n",
       "      <td>10AM</td>\n",
       "      <td>Bar</td>\n",
       "      <td>1d</td>\n",
       "      <td>Male</td>\n",
       "      <td>21</td>\n",
       "      <td>Single</td>\n",
       "      <td>...</td>\n",
       "      <td>less1</td>\n",
       "      <td>4~8</td>\n",
       "      <td>4~8</td>\n",
       "      <td>less1</td>\n",
       "      <td>1</td>\n",
       "      <td>0</td>\n",
       "      <td>0</td>\n",
       "      <td>0</td>\n",
       "      <td>1</td>\n",
       "      <td>1</td>\n",
       "    </tr>\n",
       "    <tr>\n",
       "      <th>25</th>\n",
       "      <td>No Urgent Place</td>\n",
       "      <td>Friend(s)</td>\n",
       "      <td>Sunny</td>\n",
       "      <td>80</td>\n",
       "      <td>10AM</td>\n",
       "      <td>Carry out &amp; Take away</td>\n",
       "      <td>2h</td>\n",
       "      <td>Male</td>\n",
       "      <td>21</td>\n",
       "      <td>Single</td>\n",
       "      <td>...</td>\n",
       "      <td>less1</td>\n",
       "      <td>4~8</td>\n",
       "      <td>4~8</td>\n",
       "      <td>less1</td>\n",
       "      <td>1</td>\n",
       "      <td>1</td>\n",
       "      <td>0</td>\n",
       "      <td>0</td>\n",
       "      <td>1</td>\n",
       "      <td>0</td>\n",
       "    </tr>\n",
       "    <tr>\n",
       "      <th>26</th>\n",
       "      <td>No Urgent Place</td>\n",
       "      <td>Friend(s)</td>\n",
       "      <td>Sunny</td>\n",
       "      <td>80</td>\n",
       "      <td>2PM</td>\n",
       "      <td>Coffee House</td>\n",
       "      <td>1d</td>\n",
       "      <td>Male</td>\n",
       "      <td>21</td>\n",
       "      <td>Single</td>\n",
       "      <td>...</td>\n",
       "      <td>less1</td>\n",
       "      <td>4~8</td>\n",
       "      <td>4~8</td>\n",
       "      <td>less1</td>\n",
       "      <td>1</td>\n",
       "      <td>0</td>\n",
       "      <td>0</td>\n",
       "      <td>0</td>\n",
       "      <td>1</td>\n",
       "      <td>0</td>\n",
       "    </tr>\n",
       "    <tr>\n",
       "      <th>...</th>\n",
       "      <td>...</td>\n",
       "      <td>...</td>\n",
       "      <td>...</td>\n",
       "      <td>...</td>\n",
       "      <td>...</td>\n",
       "      <td>...</td>\n",
       "      <td>...</td>\n",
       "      <td>...</td>\n",
       "      <td>...</td>\n",
       "      <td>...</td>\n",
       "      <td>...</td>\n",
       "      <td>...</td>\n",
       "      <td>...</td>\n",
       "      <td>...</td>\n",
       "      <td>...</td>\n",
       "      <td>...</td>\n",
       "      <td>...</td>\n",
       "      <td>...</td>\n",
       "      <td>...</td>\n",
       "      <td>...</td>\n",
       "      <td>...</td>\n",
       "    </tr>\n",
       "    <tr>\n",
       "      <th>12679</th>\n",
       "      <td>Home</td>\n",
       "      <td>Partner</td>\n",
       "      <td>Rainy</td>\n",
       "      <td>55</td>\n",
       "      <td>6PM</td>\n",
       "      <td>Carry out &amp; Take away</td>\n",
       "      <td>1d</td>\n",
       "      <td>Male</td>\n",
       "      <td>26</td>\n",
       "      <td>Single</td>\n",
       "      <td>...</td>\n",
       "      <td>never</td>\n",
       "      <td>1~3</td>\n",
       "      <td>4~8</td>\n",
       "      <td>1~3</td>\n",
       "      <td>1</td>\n",
       "      <td>0</td>\n",
       "      <td>0</td>\n",
       "      <td>1</td>\n",
       "      <td>0</td>\n",
       "      <td>1</td>\n",
       "    </tr>\n",
       "    <tr>\n",
       "      <th>12680</th>\n",
       "      <td>Work</td>\n",
       "      <td>Alone</td>\n",
       "      <td>Rainy</td>\n",
       "      <td>55</td>\n",
       "      <td>7AM</td>\n",
       "      <td>Carry out &amp; Take away</td>\n",
       "      <td>1d</td>\n",
       "      <td>Male</td>\n",
       "      <td>26</td>\n",
       "      <td>Single</td>\n",
       "      <td>...</td>\n",
       "      <td>never</td>\n",
       "      <td>1~3</td>\n",
       "      <td>4~8</td>\n",
       "      <td>1~3</td>\n",
       "      <td>1</td>\n",
       "      <td>0</td>\n",
       "      <td>0</td>\n",
       "      <td>0</td>\n",
       "      <td>1</td>\n",
       "      <td>1</td>\n",
       "    </tr>\n",
       "    <tr>\n",
       "      <th>12681</th>\n",
       "      <td>Work</td>\n",
       "      <td>Alone</td>\n",
       "      <td>Snowy</td>\n",
       "      <td>30</td>\n",
       "      <td>7AM</td>\n",
       "      <td>Coffee House</td>\n",
       "      <td>1d</td>\n",
       "      <td>Male</td>\n",
       "      <td>26</td>\n",
       "      <td>Single</td>\n",
       "      <td>...</td>\n",
       "      <td>never</td>\n",
       "      <td>1~3</td>\n",
       "      <td>4~8</td>\n",
       "      <td>1~3</td>\n",
       "      <td>1</td>\n",
       "      <td>0</td>\n",
       "      <td>0</td>\n",
       "      <td>1</td>\n",
       "      <td>0</td>\n",
       "      <td>0</td>\n",
       "    </tr>\n",
       "    <tr>\n",
       "      <th>12682</th>\n",
       "      <td>Work</td>\n",
       "      <td>Alone</td>\n",
       "      <td>Snowy</td>\n",
       "      <td>30</td>\n",
       "      <td>7AM</td>\n",
       "      <td>Bar</td>\n",
       "      <td>1d</td>\n",
       "      <td>Male</td>\n",
       "      <td>26</td>\n",
       "      <td>Single</td>\n",
       "      <td>...</td>\n",
       "      <td>never</td>\n",
       "      <td>1~3</td>\n",
       "      <td>4~8</td>\n",
       "      <td>1~3</td>\n",
       "      <td>1</td>\n",
       "      <td>1</td>\n",
       "      <td>1</td>\n",
       "      <td>0</td>\n",
       "      <td>1</td>\n",
       "      <td>0</td>\n",
       "    </tr>\n",
       "    <tr>\n",
       "      <th>12683</th>\n",
       "      <td>Work</td>\n",
       "      <td>Alone</td>\n",
       "      <td>Sunny</td>\n",
       "      <td>80</td>\n",
       "      <td>7AM</td>\n",
       "      <td>Restaurant(20-50)</td>\n",
       "      <td>2h</td>\n",
       "      <td>Male</td>\n",
       "      <td>26</td>\n",
       "      <td>Single</td>\n",
       "      <td>...</td>\n",
       "      <td>never</td>\n",
       "      <td>1~3</td>\n",
       "      <td>4~8</td>\n",
       "      <td>1~3</td>\n",
       "      <td>1</td>\n",
       "      <td>0</td>\n",
       "      <td>0</td>\n",
       "      <td>1</td>\n",
       "      <td>0</td>\n",
       "      <td>0</td>\n",
       "    </tr>\n",
       "  </tbody>\n",
       "</table>\n",
       "<p>12079 rows × 25 columns</p>\n",
       "</div>"
      ],
      "text/plain": [
       "           destination  passanger weather  temperature  time  \\\n",
       "22     No Urgent Place      Alone   Sunny           55   2PM   \n",
       "23     No Urgent Place  Friend(s)   Sunny           80  10AM   \n",
       "24     No Urgent Place  Friend(s)   Sunny           80  10AM   \n",
       "25     No Urgent Place  Friend(s)   Sunny           80  10AM   \n",
       "26     No Urgent Place  Friend(s)   Sunny           80   2PM   \n",
       "...                ...        ...     ...          ...   ...   \n",
       "12679             Home    Partner   Rainy           55   6PM   \n",
       "12680             Work      Alone   Rainy           55   7AM   \n",
       "12681             Work      Alone   Snowy           30   7AM   \n",
       "12682             Work      Alone   Snowy           30   7AM   \n",
       "12683             Work      Alone   Sunny           80   7AM   \n",
       "\n",
       "                      coupon expiration gender age maritalStatus  ...  \\\n",
       "22           Restaurant(<20)         1d   Male  21        Single  ...   \n",
       "23              Coffee House         2h   Male  21        Single  ...   \n",
       "24                       Bar         1d   Male  21        Single  ...   \n",
       "25     Carry out & Take away         2h   Male  21        Single  ...   \n",
       "26              Coffee House         1d   Male  21        Single  ...   \n",
       "...                      ...        ...    ...  ..           ...  ...   \n",
       "12679  Carry out & Take away         1d   Male  26        Single  ...   \n",
       "12680  Carry out & Take away         1d   Male  26        Single  ...   \n",
       "12681           Coffee House         1d   Male  26        Single  ...   \n",
       "12682                    Bar         1d   Male  26        Single  ...   \n",
       "12683      Restaurant(20-50)         2h   Male  26        Single  ...   \n",
       "\n",
       "       CoffeeHouse CarryAway RestaurantLessThan20 Restaurant20To50  \\\n",
       "22           less1       4~8                  4~8            less1   \n",
       "23           less1       4~8                  4~8            less1   \n",
       "24           less1       4~8                  4~8            less1   \n",
       "25           less1       4~8                  4~8            less1   \n",
       "26           less1       4~8                  4~8            less1   \n",
       "...            ...       ...                  ...              ...   \n",
       "12679        never       1~3                  4~8              1~3   \n",
       "12680        never       1~3                  4~8              1~3   \n",
       "12681        never       1~3                  4~8              1~3   \n",
       "12682        never       1~3                  4~8              1~3   \n",
       "12683        never       1~3                  4~8              1~3   \n",
       "\n",
       "      toCoupon_GEQ5min toCoupon_GEQ15min toCoupon_GEQ25min direction_same  \\\n",
       "22                   1                 0                 0              0   \n",
       "23                   1                 0                 0              0   \n",
       "24                   1                 0                 0              0   \n",
       "25                   1                 1                 0              0   \n",
       "26                   1                 0                 0              0   \n",
       "...                ...               ...               ...            ...   \n",
       "12679                1                 0                 0              1   \n",
       "12680                1                 0                 0              0   \n",
       "12681                1                 0                 0              1   \n",
       "12682                1                 1                 1              0   \n",
       "12683                1                 0                 0              1   \n",
       "\n",
       "      direction_opp  Y  \n",
       "22                1  1  \n",
       "23                1  0  \n",
       "24                1  1  \n",
       "25                1  0  \n",
       "26                1  0  \n",
       "...             ... ..  \n",
       "12679             0  1  \n",
       "12680             1  1  \n",
       "12681             0  0  \n",
       "12682             1  0  \n",
       "12683             0  0  \n",
       "\n",
       "[12079 rows x 25 columns]"
      ]
     },
     "execution_count": 28,
     "metadata": {},
     "output_type": "execute_result"
    }
   ],
   "source": [
    "cleaned_data"
   ]
  },
  {
   "cell_type": "markdown",
   "metadata": {
    "id": "YE6oJbXd_qRI"
   },
   "source": [
    "4. What proportion of the total observations chose to accept the coupon?\n",
    "\n"
   ]
  },
  {
   "cell_type": "code",
   "execution_count": 30,
   "metadata": {
    "id": "86GGqBTv_qRI"
   },
   "outputs": [
    {
     "data": {
      "text/plain": [
       "0.5693352098683666"
      ]
     },
     "execution_count": 30,
     "metadata": {},
     "output_type": "execute_result"
    }
   ],
   "source": [
    "cleaned_data['Y'].sum() / len(cleaned_data)"
   ]
  },
  {
   "cell_type": "markdown",
   "metadata": {
    "id": "vflz0DoE_qRI"
   },
   "source": [
    "5. Use a bar plot to visualize the `coupon` column."
   ]
  },
  {
   "cell_type": "code",
   "execution_count": 32,
   "metadata": {
    "id": "dHFh3E45_qRI"
   },
   "outputs": [
    {
     "data": {
      "text/plain": [
       "<Axes: title={'center': 'Counts of Coupon Type'}, xlabel='Coupon Type', ylabel='Count'>"
      ]
     },
     "execution_count": 32,
     "metadata": {},
     "output_type": "execute_result"
    },
    {
     "data": {
      "image/png": "[encoded data removed]",
      "text/plain": [
       "<Figure size 640x480 with 1 Axes>"
      ]
     },
     "metadata": {},
     "output_type": "display_data"
    }
   ],
   "source": [
    "plt.title('Counts of Coupon Type')\n",
    "plt.ylabel('Count')\n",
    "plt.xlabel('Coupon Type')\n",
    "plt.xticks(rotation=45)\n",
    "sns.barplot(data=cleaned_data['coupon'].value_counts())"
   ]
  },
  {
   "cell_type": "markdown",
   "metadata": {
    "id": "Qw4lCyx2_qRI"
   },
   "source": [
    "6. Use a histogram to visualize the temperature column."
   ]
  },
  {
   "cell_type": "code",
   "execution_count": 34,
   "metadata": {
    "id": "Yg9Anv71_qRI"
   },
   "outputs": [
    {
     "data": {
      "text/plain": [
       "<Axes: title={'center': 'Temperature (°F) Histogram'}, xlabel='Temperature (°F)', ylabel='Count'>"
      ]
     },
     "execution_count": 34,
     "metadata": {},
     "output_type": "execute_result"
    },
    {
     "data": {
      "image/png": "[encoded data removed]",
      "text/plain": [
       "<Figure size 640x480 with 1 Axes>"
      ]
     },
     "metadata": {},
     "output_type": "display_data"
    }
   ],
   "source": [
    "plt.title('Temperature (°F) Histogram')\n",
    "plt.xlabel('Temperature (°F)')\n",
    "plt.ylabel('Count')\n",
    "sns.histplot(data['temperature'])"
   ]
  },
  {
   "cell_type": "markdown",
   "metadata": {
    "id": "FupfgeJk_qRJ"
   },
   "source": [
    "**Investigating the Bar Coupons**\n",
    "\n",
    "Now, we will lead you through an exploration of just the bar related coupons.  \n",
    "\n",
    "1. Create a new `DataFrame` that contains just the bar coupons.\n"
   ]
  },
  {
   "cell_type": "code",
   "execution_count": 36,
   "metadata": {
    "id": "tMBlWuGq_qRJ"
   },
   "outputs": [],
   "source": [
    "df = data[data['coupon'] == 'Bar'].copy()"
   ]
  },
  {
   "cell_type": "markdown",
   "metadata": {
    "id": "8ue6uCqf_qRJ"
   },
   "source": [
    "2. What proportion of bar coupons were accepted?\n"
   ]
  },
  {
   "cell_type": "code",
   "execution_count": 38,
   "metadata": {
    "id": "hSdte8Mi_qRK"
   },
   "outputs": [
    {
     "data": {
      "text/plain": [
       "0.41001487357461575"
      ]
     },
     "execution_count": 38,
     "metadata": {},
     "output_type": "execute_result"
    }
   ],
   "source": [
    "df['Y'].sum() / len(df)"
   ]
  },
  {
   "cell_type": "markdown",
   "metadata": {
    "id": "85nA_iEi_qRK"
   },
   "source": [
    "3. Compare the acceptance rate between those who went to a bar 3 or fewer times a month to those who went more.\n"
   ]
  },
  {
   "cell_type": "code",
   "execution_count": 40,
   "metadata": {
    "id": "LBOrN-XM_qRK"
   },
   "outputs": [],
   "source": [
    "mapping = {\n",
    "    'never': 1,\n",
    "    'less1': 1,\n",
    "    '1~3': 1, \n",
    "    '4~8': 0,\n",
    "    'gt8': 0,\n",
    "}\n",
    "df['bar_lte_3'] = df['Bar'].map(mapping)"
   ]
  },
  {
   "cell_type": "code",
   "execution_count": 41,
   "metadata": {},
   "outputs": [
    {
     "name": "stdout",
     "output_type": "stream",
     "text": [
      "The acceptance rates of\n",
      "\t* those who went to a bar 3 or fewer times a month: 0.37\n",
      "\t* those who went to a bar more than 3 times: 0.77\n",
      "Thus, we can see that those who go to bars more often (> 3 times per month) are more likely to accept the Bar coupon than those who go to the bars less often (<= 3 times per month)\n"
     ]
    }
   ],
   "source": [
    "lte3 = df.query('bar_lte_3 == 1')        \n",
    "lte3_acceptance_rate = lte3['Y'].sum() / len(lte3)\n",
    "\n",
    "gt3 = df.query('bar_lte_3 == 0')\n",
    "gt3_acceptance_rate = gt3['Y'].sum() / len(gt3)\n",
    "print('The acceptance rates of')\n",
    "print(f'\\t* those who went to a bar 3 or fewer times a month: {lte3_acceptance_rate:.2f}')\n",
    "print(f'\\t* those who went to a bar more than 3 times: {gt3_acceptance_rate:.2f}')\n",
    "print('Thus, we can see that those who go to bars more often (> 3 times per month) are more likely to accept the Bar coupon '\n",
    "     + 'than those who go to the bars less often (<= 3 times per month)')"
   ]
  },
  {
   "cell_type": "markdown",
   "metadata": {
    "id": "RBgcQwH4_qRK"
   },
   "source": [
    "4. Compare the acceptance rate between drivers who go to a bar more than once a month and are over the age of 25 to the all others.  Is there a difference?\n"
   ]
  },
  {
   "cell_type": "code",
   "execution_count": 43,
   "metadata": {
    "id": "bf28bbeX_qRK"
   },
   "outputs": [],
   "source": [
    "bar_mapping = {\n",
    "    'never': 0,\n",
    "    'less1': 0,\n",
    "    '1~3': 1, \n",
    "    '4~8': 1,\n",
    "    'gt8': 1,\n",
    "}\n",
    "\n",
    "age_mapping = {\n",
    "    '21': 0,\n",
    "    '26': 1,\n",
    "    '31': 1,\n",
    "    '50plus': 1,\n",
    "    '36': 1,\n",
    "    '41': 1,\n",
    "    '46': 1,\n",
    "    'below21': 0,\n",
    "}\n",
    "\n",
    "df['bar_gte_1'] = df['Bar'].map(bar_mapping)\n",
    "df['age_gt_25'] = df['age'].map(age_mapping)"
   ]
  },
  {
   "cell_type": "code",
   "execution_count": 44,
   "metadata": {},
   "outputs": [],
   "source": [
    "target_bar_and_age_mask = (df['bar_gte_1'] == 1) & (df['age_gt_25'] == 1)"
   ]
  },
  {
   "cell_type": "code",
   "execution_count": 45,
   "metadata": {},
   "outputs": [
    {
     "name": "stdout",
     "output_type": "stream",
     "text": [
      "The acceptance rates of\n",
      "\t* those who went to a bar 1 or more times a month and are over the age of 25: 0.70\n",
      "\t* those who were not the above: 0.34\n",
      "Thus, we can see that those who went to a bar 1 or more times a month and are over the age of 25 are more likely to accept the Bar coupon than those who are not.\n"
     ]
    }
   ],
   "source": [
    "target_bar_and_age = df[target_bar_and_age_mask]\n",
    "other_bar_and_age = df[~target_bar_and_age_mask]\n",
    "\n",
    "accept_rate_target_bar_and_age = target_bar_and_age['Y'].sum() / len(target_bar_and_age)\n",
    "accept_rate_other_bar_and_age = other_bar_and_age['Y'].sum() / len(other_bar_and_age)\n",
    "\n",
    "print('The acceptance rates of')\n",
    "print(f'\\t* those who went to a bar 1 or more times a month and are over the age of 25: {accept_rate_target_bar_and_age:.2f}')\n",
    "print(f'\\t* those who were not the above: {accept_rate_other_bar_and_age:.2f}')\n",
    "print('Thus, we can see that those who went to a bar 1 or more times a month and are over the age of 25 are more likely to accept the Bar coupon '\n",
    "     + 'than those who are not.')"
   ]
  },
  {
   "cell_type": "markdown",
   "metadata": {
    "id": "S4RKT4PJ_qRK"
   },
   "source": [
    "5. Use the same process to compare the acceptance rate between drivers who go to bars more than once a month and had passengers that were not a kid and had occupations other than farming, fishing, or forestry.\n"
   ]
  },
  {
   "cell_type": "code",
   "execution_count": 47,
   "metadata": {
    "id": "sENaI2Tg_qRK"
   },
   "outputs": [],
   "source": [
    "passenger_mapping = {\n",
    "    'Friend(s)': 1,\n",
    "    'Partner': 1,\n",
    "}\n",
    "occupation_mapping = {\n",
    "    'Farming Fishing & Forestry': 0,\n",
    "}\n",
    "df['not_kid_passenger'] = df['passanger'].map(passenger_mapping).fillna(0)\n",
    "df['not_fff'] = df['occupation'].map(occupation_mapping).fillna(1)"
   ]
  },
  {
   "cell_type": "code",
   "execution_count": 48,
   "metadata": {},
   "outputs": [],
   "source": [
    "target_bar_age_passenger_mask = (df['bar_gte_1'] == 1) & (df['not_kid_passenger'] == 1) & (df['not_fff'] == 1)"
   ]
  },
  {
   "cell_type": "code",
   "execution_count": 49,
   "metadata": {},
   "outputs": [
    {
     "name": "stdout",
     "output_type": "stream",
     "text": [
      "The acceptance rates of\n",
      "\t* those who go to bars more than once a month and had passengers that were not a kid and had occupations other than farming, fishing, or forestry: 0.72\n",
      "\t* those who were not the above: 0.38\n",
      "Thus, we can see that those who go to bars more than once a month and had passengers that were not a kid and had occupations other than farming, fishing, or forestry are more likely to accept the Bar coupon than those who are not.\n"
     ]
    }
   ],
   "source": [
    "target_bar_age_passenger = df[target_bar_age_passenger_mask]\n",
    "other_bar_age_passenger = df[~target_bar_age_passenger_mask]\n",
    "\n",
    "accept_rate_target_bar_age_passenger = target_bar_age_passenger['Y'].sum() / len(target_bar_age_passenger)\n",
    "accept_rate_other_bar_age_passenger = other_bar_age_passenger['Y'].sum() / len(other_bar_age_passenger)\n",
    "\n",
    "print('The acceptance rates of')\n",
    "print(f'\\t* those who go to bars more than once a month and had passengers that were not a kid and had occupations other than farming, fishing, or forestry: {accept_rate_target_bar_age_passenger:.2f}')\n",
    "print(f'\\t* those who were not the above: {accept_rate_other_bar_age_passenger:.2f}')\n",
    "print('Thus, we can see that those who go to bars more than once a month and had passengers that were not a kid '\n",
    "      + 'and had occupations other than farming, fishing, or forestry are more likely to accept the Bar coupon than those who are not.')"
   ]
  },
  {
   "cell_type": "markdown",
   "metadata": {
    "id": "n2LIUTil_qRK"
   },
   "source": [
    "6. Compare the acceptance rates between those drivers who:\n",
    "\n",
    "- go to bars more than once a month, had passengers that were not a kid, and were not widowed *OR*\n",
    "- go to bars more than once a month and are under the age of 30 *OR*\n",
    "- go to cheap restaurants more than 4 times a month and income is less than 50K.\n",
    "\n"
   ]
  },
  {
   "cell_type": "code",
   "execution_count": 51,
   "metadata": {
    "id": "aK_wEzx7_qRK"
   },
   "outputs": [],
   "source": [
    "marital_status_mapping = {\n",
    "    'Widowed': 0,\n",
    "}\n",
    "\n",
    "age_under_30_mapping = {\n",
    "    '21': 1,\n",
    "    '26': 1,\n",
    "    'below21': 1,\n",
    "}\n",
    "\n",
    "cheap_restaurant_mapping = {\n",
    "    '4~8': 1,\n",
    "    'gt8': 1,\n",
    "}\n",
    "\n",
    "income_mapping = {\n",
    "    'Less than $12500': 1,\n",
    "    '$12500 - $24999': 1,\n",
    "    '$25000 - $37499': 1,\n",
    "    '$37500 - $49999': 1,\n",
    "}\n",
    "\n",
    "df['not_widowed'] = df['maritalStatus'].map(marital_status_mapping).fillna(1)\n",
    "df['age_lt_30'] = df['age'].map(age_under_30_mapping).fillna(0)\n",
    "df['cheap_restaurant_gte_4'] = df['RestaurantLessThan20'].map(cheap_restaurant_mapping).fillna(0)\n",
    "df['income_lt_50k'] = df['income'].map(income_mapping).fillna(0)"
   ]
  },
  {
   "cell_type": "code",
   "execution_count": 52,
   "metadata": {},
   "outputs": [],
   "source": [
    "# Target 1: go to bars more than once a month, had passengers that were not a kid, and were not widowed OR\n",
    "# Target 2: go to bars more than once a month and are under the age of 30 OR\n",
    "# Target 3: go to cheap restaurants more than 4 times a month and income is less than 50K.\n",
    "target1_mask = (df['bar_gte_1'] == 1) & (df['not_kid_passenger'] == 1) & (df['not_widowed'] == 1)\n",
    "target1 = df[target1_mask]\n",
    "\n",
    "target2_mask = (df['bar_gte_1'] == 1) & (df['age_lt_30'] == 1)\n",
    "target2 = df[target2_mask]\n",
    "\n",
    "target3_mask = (df['cheap_restaurant_gte_4'] == 1) & (df['income_lt_50k'] == 1)\n",
    "target3 = df[target3_mask]"
   ]
  },
  {
   "cell_type": "code",
   "execution_count": 53,
   "metadata": {},
   "outputs": [],
   "source": [
    "accept_rate_target1 = target1['Y'].sum() / len(target1)\n",
    "\n",
    "accept_rate_target2 = target2['Y'].sum() / len(target2)\n",
    "\n",
    "accept_rate_target3 = target3['Y'].sum() / len(target3)"
   ]
  },
  {
   "cell_type": "code",
   "execution_count": 54,
   "metadata": {},
   "outputs": [
    {
     "data": {
      "text/plain": [
       "age\n",
       "21         417\n",
       "26         395\n",
       "31         339\n",
       "50plus     283\n",
       "36         209\n",
       "41         178\n",
       "46         109\n",
       "below21     87\n",
       "Name: count, dtype: int64"
      ]
     },
     "execution_count": 54,
     "metadata": {},
     "output_type": "execute_result"
    }
   ],
   "source": [
    "df['age'].value_counts()"
   ]
  },
  {
   "cell_type": "code",
   "execution_count": 55,
   "metadata": {},
   "outputs": [
    {
     "name": "stdout",
     "output_type": "stream",
     "text": [
      "The acceptance rates of:\n",
      "\t* those who go to bars more than once a month, had passengers that were not a kid, and were not widowed: 0.72\n",
      "\t* those who go to bars more than once a month and are under the age of 30: 0.72\n",
      "\t* those who go to cheap restaurants more than 4 times a month and income is less than 50K: 0.45\n"
     ]
    }
   ],
   "source": [
    "print('The acceptance rates of:')\n",
    "print(f'\\t* those who go to bars more than once a month, had passengers that were not a kid, and were not widowed: {accept_rate_target1:.2f}')\n",
    "print(f'\\t* those who go to bars more than once a month and are under the age of 30: {accept_rate_target2:.2f}')\n",
    "print(f'\\t* those who go to cheap restaurants more than 4 times a month and income is less than 50K: {accept_rate_target3:.2f}')\n"
   ]
  },
  {
   "cell_type": "markdown",
   "metadata": {
    "id": "v3fL3QkO_qRK"
   },
   "source": [
    "7.  Based on these observations, what do you hypothesize about drivers who accepted the bar coupons?"
   ]
  },
  {
   "cell_type": "markdown",
   "metadata": {
    "id": "Y48naDFh_qRL"
   },
   "source": [
    "We see that if a driver already frequents a bar > 3 times a month, they are likely to accept the bar coupon at 77% percent. Even if they go less frequently but still go at least once a month, if they either 1) have a non-kid passenger with them or 2) are below 30 years old, they are also likely to accept the bar coupon at 70% and 72% percent respectively.\n",
    "\n",
    "In summary, if a person goes to a bar > 3 times a month, send them a bar coupon. Otherwise if they go to a bar >= 1 time a month, send them a bar coupon if they either 1) have a non-kid passenger with them or 2) are below 30 years old. "
   ]
  },
  {
   "cell_type": "markdown",
   "metadata": {
    "id": "r4Hu1zOb_qRL"
   },
   "source": [
    "### Independent Investigation\n",
    "\n",
    "Using the bar coupon example as motivation, you are to explore one of the other coupon groups and try to determine the characteristics of passengers who accept the coupons.  "
   ]
  },
  {
   "cell_type": "markdown",
   "metadata": {},
   "source": [
    "In the below cells, I explored the Coffee House coupon group. \n",
    "\n",
    "The recommendation would be to send the Coffee House coupon to people with the following characteristics:\n",
    "* People whose destination is No Urgent Place\n",
    "* People whose income is outside the range of \\\\$62,500 - \\\\$87,499\n",
    "* People who go to a coffee shop at least once a month\n",
    "* Use an expiration time of 1 day for the coupon "
   ]
  },
  {
   "cell_type": "code",
   "execution_count": 60,
   "metadata": {
    "id": "0c71cQhu_qRL"
   },
   "outputs": [],
   "source": [
    "df_coffee = cleaned_data[cleaned_data['coupon'] == 'Coffee House'].copy()"
   ]
  },
  {
   "cell_type": "code",
   "execution_count": 61,
   "metadata": {
    "id": "QEsBkvIN_qRL"
   },
   "outputs": [
    {
     "name": "stdout",
     "output_type": "stream",
     "text": [
      "0.50 of people who received a Coffee coupon accepted it\n"
     ]
    }
   ],
   "source": [
    "accept_rate = df_coffee['Y'].sum() / len(df_coffee)\n",
    "print(f'{accept_rate:.2f} of people who received a Coffee coupon accepted it')"
   ]
  },
  {
   "cell_type": "code",
   "execution_count": 62,
   "metadata": {},
   "outputs": [],
   "source": [
    "df_encoded = pd.get_dummies(df_coffee, columns=['expiration', 'gender', 'destination', 'temperature'], dtype=float)"
   ]
  },
  {
   "cell_type": "code",
   "execution_count": 63,
   "metadata": {},
   "outputs": [
    {
     "data": {
      "text/html": [
       "<div>\n",
       "<style scoped>\n",
       "    .dataframe tbody tr th:only-of-type {\n",
       "        vertical-align: middle;\n",
       "    }\n",
       "\n",
       "    .dataframe tbody tr th {\n",
       "        vertical-align: top;\n",
       "    }\n",
       "\n",
       "    .dataframe thead th {\n",
       "        text-align: right;\n",
       "    }\n",
       "</style>\n",
       "<table border=\"1\" class=\"dataframe\">\n",
       "  <thead>\n",
       "    <tr style=\"text-align: right;\">\n",
       "      <th></th>\n",
       "      <th>passanger</th>\n",
       "      <th>weather</th>\n",
       "      <th>time</th>\n",
       "      <th>coupon</th>\n",
       "      <th>age</th>\n",
       "      <th>maritalStatus</th>\n",
       "      <th>has_children</th>\n",
       "      <th>education</th>\n",
       "      <th>occupation</th>\n",
       "      <th>income</th>\n",
       "      <th>...</th>\n",
       "      <th>expiration_1d</th>\n",
       "      <th>expiration_2h</th>\n",
       "      <th>gender_Female</th>\n",
       "      <th>gender_Male</th>\n",
       "      <th>destination_Home</th>\n",
       "      <th>destination_No Urgent Place</th>\n",
       "      <th>destination_Work</th>\n",
       "      <th>temperature_30</th>\n",
       "      <th>temperature_55</th>\n",
       "      <th>temperature_80</th>\n",
       "    </tr>\n",
       "  </thead>\n",
       "  <tbody>\n",
       "    <tr>\n",
       "      <th>23</th>\n",
       "      <td>Friend(s)</td>\n",
       "      <td>Sunny</td>\n",
       "      <td>10AM</td>\n",
       "      <td>Coffee House</td>\n",
       "      <td>21</td>\n",
       "      <td>Single</td>\n",
       "      <td>0</td>\n",
       "      <td>Bachelors degree</td>\n",
       "      <td>Architecture &amp; Engineering</td>\n",
       "      <td>$62500 - $74999</td>\n",
       "      <td>...</td>\n",
       "      <td>0.0</td>\n",
       "      <td>1.0</td>\n",
       "      <td>0.0</td>\n",
       "      <td>1.0</td>\n",
       "      <td>0.0</td>\n",
       "      <td>1.0</td>\n",
       "      <td>0.0</td>\n",
       "      <td>0.0</td>\n",
       "      <td>0.0</td>\n",
       "      <td>1.0</td>\n",
       "    </tr>\n",
       "    <tr>\n",
       "      <th>26</th>\n",
       "      <td>Friend(s)</td>\n",
       "      <td>Sunny</td>\n",
       "      <td>2PM</td>\n",
       "      <td>Coffee House</td>\n",
       "      <td>21</td>\n",
       "      <td>Single</td>\n",
       "      <td>0</td>\n",
       "      <td>Bachelors degree</td>\n",
       "      <td>Architecture &amp; Engineering</td>\n",
       "      <td>$62500 - $74999</td>\n",
       "      <td>...</td>\n",
       "      <td>1.0</td>\n",
       "      <td>0.0</td>\n",
       "      <td>0.0</td>\n",
       "      <td>1.0</td>\n",
       "      <td>0.0</td>\n",
       "      <td>1.0</td>\n",
       "      <td>0.0</td>\n",
       "      <td>0.0</td>\n",
       "      <td>0.0</td>\n",
       "      <td>1.0</td>\n",
       "    </tr>\n",
       "    <tr>\n",
       "      <th>27</th>\n",
       "      <td>Friend(s)</td>\n",
       "      <td>Sunny</td>\n",
       "      <td>2PM</td>\n",
       "      <td>Coffee House</td>\n",
       "      <td>21</td>\n",
       "      <td>Single</td>\n",
       "      <td>0</td>\n",
       "      <td>Bachelors degree</td>\n",
       "      <td>Architecture &amp; Engineering</td>\n",
       "      <td>$62500 - $74999</td>\n",
       "      <td>...</td>\n",
       "      <td>0.0</td>\n",
       "      <td>1.0</td>\n",
       "      <td>0.0</td>\n",
       "      <td>1.0</td>\n",
       "      <td>0.0</td>\n",
       "      <td>1.0</td>\n",
       "      <td>0.0</td>\n",
       "      <td>0.0</td>\n",
       "      <td>0.0</td>\n",
       "      <td>1.0</td>\n",
       "    </tr>\n",
       "    <tr>\n",
       "      <th>28</th>\n",
       "      <td>Friend(s)</td>\n",
       "      <td>Sunny</td>\n",
       "      <td>2PM</td>\n",
       "      <td>Coffee House</td>\n",
       "      <td>21</td>\n",
       "      <td>Single</td>\n",
       "      <td>0</td>\n",
       "      <td>Bachelors degree</td>\n",
       "      <td>Architecture &amp; Engineering</td>\n",
       "      <td>$62500 - $74999</td>\n",
       "      <td>...</td>\n",
       "      <td>1.0</td>\n",
       "      <td>0.0</td>\n",
       "      <td>0.0</td>\n",
       "      <td>1.0</td>\n",
       "      <td>0.0</td>\n",
       "      <td>1.0</td>\n",
       "      <td>0.0</td>\n",
       "      <td>0.0</td>\n",
       "      <td>0.0</td>\n",
       "      <td>1.0</td>\n",
       "    </tr>\n",
       "    <tr>\n",
       "      <th>30</th>\n",
       "      <td>Friend(s)</td>\n",
       "      <td>Sunny</td>\n",
       "      <td>6PM</td>\n",
       "      <td>Coffee House</td>\n",
       "      <td>21</td>\n",
       "      <td>Single</td>\n",
       "      <td>0</td>\n",
       "      <td>Bachelors degree</td>\n",
       "      <td>Architecture &amp; Engineering</td>\n",
       "      <td>$62500 - $74999</td>\n",
       "      <td>...</td>\n",
       "      <td>0.0</td>\n",
       "      <td>1.0</td>\n",
       "      <td>0.0</td>\n",
       "      <td>1.0</td>\n",
       "      <td>0.0</td>\n",
       "      <td>1.0</td>\n",
       "      <td>0.0</td>\n",
       "      <td>0.0</td>\n",
       "      <td>0.0</td>\n",
       "      <td>1.0</td>\n",
       "    </tr>\n",
       "  </tbody>\n",
       "</table>\n",
       "<p>5 rows × 31 columns</p>\n",
       "</div>"
      ],
      "text/plain": [
       "    passanger weather  time        coupon age maritalStatus  has_children  \\\n",
       "23  Friend(s)   Sunny  10AM  Coffee House  21        Single             0   \n",
       "26  Friend(s)   Sunny   2PM  Coffee House  21        Single             0   \n",
       "27  Friend(s)   Sunny   2PM  Coffee House  21        Single             0   \n",
       "28  Friend(s)   Sunny   2PM  Coffee House  21        Single             0   \n",
       "30  Friend(s)   Sunny   6PM  Coffee House  21        Single             0   \n",
       "\n",
       "           education                  occupation           income  ...  \\\n",
       "23  Bachelors degree  Architecture & Engineering  $62500 - $74999  ...   \n",
       "26  Bachelors degree  Architecture & Engineering  $62500 - $74999  ...   \n",
       "27  Bachelors degree  Architecture & Engineering  $62500 - $74999  ...   \n",
       "28  Bachelors degree  Architecture & Engineering  $62500 - $74999  ...   \n",
       "30  Bachelors degree  Architecture & Engineering  $62500 - $74999  ...   \n",
       "\n",
       "   expiration_1d expiration_2h gender_Female gender_Male destination_Home  \\\n",
       "23           0.0           1.0           0.0         1.0              0.0   \n",
       "26           1.0           0.0           0.0         1.0              0.0   \n",
       "27           0.0           1.0           0.0         1.0              0.0   \n",
       "28           1.0           0.0           0.0         1.0              0.0   \n",
       "30           0.0           1.0           0.0         1.0              0.0   \n",
       "\n",
       "    destination_No Urgent Place  destination_Work  temperature_30  \\\n",
       "23                          1.0               0.0             0.0   \n",
       "26                          1.0               0.0             0.0   \n",
       "27                          1.0               0.0             0.0   \n",
       "28                          1.0               0.0             0.0   \n",
       "30                          1.0               0.0             0.0   \n",
       "\n",
       "    temperature_55  temperature_80  \n",
       "23             0.0             1.0  \n",
       "26             0.0             1.0  \n",
       "27             0.0             1.0  \n",
       "28             0.0             1.0  \n",
       "30             0.0             1.0  \n",
       "\n",
       "[5 rows x 31 columns]"
      ]
     },
     "execution_count": 63,
     "metadata": {},
     "output_type": "execute_result"
    }
   ],
   "source": [
    "df_encoded.head()"
   ]
  },
  {
   "cell_type": "code",
   "execution_count": 64,
   "metadata": {},
   "outputs": [
    {
     "data": {
      "text/html": [
       "<div>\n",
       "<style scoped>\n",
       "    .dataframe tbody tr th:only-of-type {\n",
       "        vertical-align: middle;\n",
       "    }\n",
       "\n",
       "    .dataframe tbody tr th {\n",
       "        vertical-align: top;\n",
       "    }\n",
       "\n",
       "    .dataframe thead th {\n",
       "        text-align: right;\n",
       "    }\n",
       "</style>\n",
       "<table border=\"1\" class=\"dataframe\">\n",
       "  <thead>\n",
       "    <tr style=\"text-align: right;\">\n",
       "      <th></th>\n",
       "      <th>has_children</th>\n",
       "      <th>toCoupon_GEQ5min</th>\n",
       "      <th>toCoupon_GEQ15min</th>\n",
       "      <th>toCoupon_GEQ25min</th>\n",
       "      <th>direction_same</th>\n",
       "      <th>direction_opp</th>\n",
       "      <th>Y</th>\n",
       "      <th>expiration_1d</th>\n",
       "      <th>expiration_2h</th>\n",
       "      <th>gender_Female</th>\n",
       "      <th>gender_Male</th>\n",
       "      <th>destination_Home</th>\n",
       "      <th>destination_No Urgent Place</th>\n",
       "      <th>destination_Work</th>\n",
       "      <th>temperature_30</th>\n",
       "      <th>temperature_55</th>\n",
       "      <th>temperature_80</th>\n",
       "    </tr>\n",
       "  </thead>\n",
       "  <tbody>\n",
       "    <tr>\n",
       "      <th>has_children</th>\n",
       "      <td>1.000000</td>\n",
       "      <td>NaN</td>\n",
       "      <td>0.102322</td>\n",
       "      <td>0.010651</td>\n",
       "      <td>-0.043098</td>\n",
       "      <td>0.043098</td>\n",
       "      <td>-0.013658</td>\n",
       "      <td>0.003294</td>\n",
       "      <td>-0.003294</td>\n",
       "      <td>0.135718</td>\n",
       "      <td>-0.135718</td>\n",
       "      <td>-0.025301</td>\n",
       "      <td>0.011551</td>\n",
       "      <td>0.011732</td>\n",
       "      <td>-0.002176</td>\n",
       "      <td>0.055408</td>\n",
       "      <td>-0.051589</td>\n",
       "    </tr>\n",
       "    <tr>\n",
       "      <th>toCoupon_GEQ5min</th>\n",
       "      <td>NaN</td>\n",
       "      <td>NaN</td>\n",
       "      <td>NaN</td>\n",
       "      <td>NaN</td>\n",
       "      <td>NaN</td>\n",
       "      <td>NaN</td>\n",
       "      <td>NaN</td>\n",
       "      <td>NaN</td>\n",
       "      <td>NaN</td>\n",
       "      <td>NaN</td>\n",
       "      <td>NaN</td>\n",
       "      <td>NaN</td>\n",
       "      <td>NaN</td>\n",
       "      <td>NaN</td>\n",
       "      <td>NaN</td>\n",
       "      <td>NaN</td>\n",
       "      <td>NaN</td>\n",
       "    </tr>\n",
       "    <tr>\n",
       "      <th>toCoupon_GEQ15min</th>\n",
       "      <td>0.102322</td>\n",
       "      <td>NaN</td>\n",
       "      <td>1.000000</td>\n",
       "      <td>0.279968</td>\n",
       "      <td>-0.292716</td>\n",
       "      <td>0.292716</td>\n",
       "      <td>-0.094128</td>\n",
       "      <td>-0.074250</td>\n",
       "      <td>0.074250</td>\n",
       "      <td>0.008729</td>\n",
       "      <td>-0.008729</td>\n",
       "      <td>-0.179016</td>\n",
       "      <td>0.000724</td>\n",
       "      <td>0.179083</td>\n",
       "      <td>0.097008</td>\n",
       "      <td>0.105586</td>\n",
       "      <td>-0.153847</td>\n",
       "    </tr>\n",
       "    <tr>\n",
       "      <th>toCoupon_GEQ25min</th>\n",
       "      <td>0.010651</td>\n",
       "      <td>NaN</td>\n",
       "      <td>0.279968</td>\n",
       "      <td>1.000000</td>\n",
       "      <td>-0.139874</td>\n",
       "      <td>0.139874</td>\n",
       "      <td>-0.089673</td>\n",
       "      <td>-0.232383</td>\n",
       "      <td>0.232383</td>\n",
       "      <td>0.006325</td>\n",
       "      <td>-0.006325</td>\n",
       "      <td>0.100899</td>\n",
       "      <td>-0.314072</td>\n",
       "      <td>0.271055</td>\n",
       "      <td>-0.084861</td>\n",
       "      <td>0.188113</td>\n",
       "      <td>-0.132610</td>\n",
       "    </tr>\n",
       "    <tr>\n",
       "      <th>direction_same</th>\n",
       "      <td>-0.043098</td>\n",
       "      <td>NaN</td>\n",
       "      <td>-0.292716</td>\n",
       "      <td>-0.139874</td>\n",
       "      <td>1.000000</td>\n",
       "      <td>-1.000000</td>\n",
       "      <td>0.029033</td>\n",
       "      <td>0.107192</td>\n",
       "      <td>-0.107192</td>\n",
       "      <td>0.002088</td>\n",
       "      <td>-0.002088</td>\n",
       "      <td>0.230938</td>\n",
       "      <td>-0.518614</td>\n",
       "      <td>0.382922</td>\n",
       "      <td>0.092163</td>\n",
       "      <td>-0.124843</td>\n",
       "      <td>0.068328</td>\n",
       "    </tr>\n",
       "    <tr>\n",
       "      <th>direction_opp</th>\n",
       "      <td>0.043098</td>\n",
       "      <td>NaN</td>\n",
       "      <td>0.292716</td>\n",
       "      <td>0.139874</td>\n",
       "      <td>-1.000000</td>\n",
       "      <td>1.000000</td>\n",
       "      <td>-0.029033</td>\n",
       "      <td>-0.107192</td>\n",
       "      <td>0.107192</td>\n",
       "      <td>-0.002088</td>\n",
       "      <td>0.002088</td>\n",
       "      <td>-0.230938</td>\n",
       "      <td>0.518614</td>\n",
       "      <td>-0.382922</td>\n",
       "      <td>-0.092163</td>\n",
       "      <td>0.124843</td>\n",
       "      <td>-0.068328</td>\n",
       "    </tr>\n",
       "    <tr>\n",
       "      <th>Y</th>\n",
       "      <td>-0.013658</td>\n",
       "      <td>NaN</td>\n",
       "      <td>-0.094128</td>\n",
       "      <td>-0.089673</td>\n",
       "      <td>0.029033</td>\n",
       "      <td>-0.029033</td>\n",
       "      <td>1.000000</td>\n",
       "      <td>0.150555</td>\n",
       "      <td>-0.150555</td>\n",
       "      <td>-0.010778</td>\n",
       "      <td>0.010778</td>\n",
       "      <td>-0.147284</td>\n",
       "      <td>0.176650</td>\n",
       "      <td>-0.061454</td>\n",
       "      <td>-0.031992</td>\n",
       "      <td>-0.060732</td>\n",
       "      <td>0.075421</td>\n",
       "    </tr>\n",
       "    <tr>\n",
       "      <th>expiration_1d</th>\n",
       "      <td>0.003294</td>\n",
       "      <td>NaN</td>\n",
       "      <td>-0.074250</td>\n",
       "      <td>-0.232383</td>\n",
       "      <td>0.107192</td>\n",
       "      <td>-0.107192</td>\n",
       "      <td>0.150555</td>\n",
       "      <td>1.000000</td>\n",
       "      <td>-1.000000</td>\n",
       "      <td>-0.002705</td>\n",
       "      <td>0.002705</td>\n",
       "      <td>0.042481</td>\n",
       "      <td>0.050963</td>\n",
       "      <td>-0.103141</td>\n",
       "      <td>0.112561</td>\n",
       "      <td>-0.068803</td>\n",
       "      <td>0.003743</td>\n",
       "    </tr>\n",
       "    <tr>\n",
       "      <th>expiration_2h</th>\n",
       "      <td>-0.003294</td>\n",
       "      <td>NaN</td>\n",
       "      <td>0.074250</td>\n",
       "      <td>0.232383</td>\n",
       "      <td>-0.107192</td>\n",
       "      <td>0.107192</td>\n",
       "      <td>-0.150555</td>\n",
       "      <td>-1.000000</td>\n",
       "      <td>1.000000</td>\n",
       "      <td>0.002705</td>\n",
       "      <td>-0.002705</td>\n",
       "      <td>-0.042481</td>\n",
       "      <td>-0.050963</td>\n",
       "      <td>0.103141</td>\n",
       "      <td>-0.112561</td>\n",
       "      <td>0.068803</td>\n",
       "      <td>-0.003743</td>\n",
       "    </tr>\n",
       "    <tr>\n",
       "      <th>gender_Female</th>\n",
       "      <td>0.135718</td>\n",
       "      <td>NaN</td>\n",
       "      <td>0.008729</td>\n",
       "      <td>0.006325</td>\n",
       "      <td>0.002088</td>\n",
       "      <td>-0.002088</td>\n",
       "      <td>-0.010778</td>\n",
       "      <td>-0.002705</td>\n",
       "      <td>0.002705</td>\n",
       "      <td>1.000000</td>\n",
       "      <td>-1.000000</td>\n",
       "      <td>-0.003965</td>\n",
       "      <td>-0.008749</td>\n",
       "      <td>0.014361</td>\n",
       "      <td>-0.027864</td>\n",
       "      <td>-0.004483</td>\n",
       "      <td>0.019569</td>\n",
       "    </tr>\n",
       "    <tr>\n",
       "      <th>gender_Male</th>\n",
       "      <td>-0.135718</td>\n",
       "      <td>NaN</td>\n",
       "      <td>-0.008729</td>\n",
       "      <td>-0.006325</td>\n",
       "      <td>-0.002088</td>\n",
       "      <td>0.002088</td>\n",
       "      <td>0.010778</td>\n",
       "      <td>0.002705</td>\n",
       "      <td>-0.002705</td>\n",
       "      <td>-1.000000</td>\n",
       "      <td>1.000000</td>\n",
       "      <td>0.003965</td>\n",
       "      <td>0.008749</td>\n",
       "      <td>-0.014361</td>\n",
       "      <td>0.027864</td>\n",
       "      <td>0.004483</td>\n",
       "      <td>-0.019569</td>\n",
       "    </tr>\n",
       "    <tr>\n",
       "      <th>destination_Home</th>\n",
       "      <td>-0.025301</td>\n",
       "      <td>NaN</td>\n",
       "      <td>-0.179016</td>\n",
       "      <td>0.100899</td>\n",
       "      <td>0.230938</td>\n",
       "      <td>-0.230938</td>\n",
       "      <td>-0.147284</td>\n",
       "      <td>0.042481</td>\n",
       "      <td>-0.042481</td>\n",
       "      <td>-0.003965</td>\n",
       "      <td>0.003965</td>\n",
       "      <td>1.000000</td>\n",
       "      <td>-0.594277</td>\n",
       "      <td>-0.300384</td>\n",
       "      <td>0.245597</td>\n",
       "      <td>-0.188428</td>\n",
       "      <td>0.044659</td>\n",
       "    </tr>\n",
       "    <tr>\n",
       "      <th>destination_No Urgent Place</th>\n",
       "      <td>0.011551</td>\n",
       "      <td>NaN</td>\n",
       "      <td>0.000724</td>\n",
       "      <td>-0.314072</td>\n",
       "      <td>-0.518614</td>\n",
       "      <td>0.518614</td>\n",
       "      <td>0.176650</td>\n",
       "      <td>0.050963</td>\n",
       "      <td>-0.050963</td>\n",
       "      <td>-0.008749</td>\n",
       "      <td>0.008749</td>\n",
       "      <td>-0.594277</td>\n",
       "      <td>1.000000</td>\n",
       "      <td>-0.588606</td>\n",
       "      <td>-0.230535</td>\n",
       "      <td>-0.056163</td>\n",
       "      <td>0.180078</td>\n",
       "    </tr>\n",
       "    <tr>\n",
       "      <th>destination_Work</th>\n",
       "      <td>0.011732</td>\n",
       "      <td>NaN</td>\n",
       "      <td>0.179083</td>\n",
       "      <td>0.271055</td>\n",
       "      <td>0.382922</td>\n",
       "      <td>-0.382922</td>\n",
       "      <td>-0.061454</td>\n",
       "      <td>-0.103141</td>\n",
       "      <td>0.103141</td>\n",
       "      <td>0.014361</td>\n",
       "      <td>-0.014361</td>\n",
       "      <td>-0.300384</td>\n",
       "      <td>-0.588606</td>\n",
       "      <td>1.000000</td>\n",
       "      <td>0.026538</td>\n",
       "      <td>0.256010</td>\n",
       "      <td>-0.258454</td>\n",
       "    </tr>\n",
       "    <tr>\n",
       "      <th>temperature_30</th>\n",
       "      <td>-0.002176</td>\n",
       "      <td>NaN</td>\n",
       "      <td>0.097008</td>\n",
       "      <td>-0.084861</td>\n",
       "      <td>0.092163</td>\n",
       "      <td>-0.092163</td>\n",
       "      <td>-0.031992</td>\n",
       "      <td>0.112561</td>\n",
       "      <td>-0.112561</td>\n",
       "      <td>-0.027864</td>\n",
       "      <td>0.027864</td>\n",
       "      <td>0.245597</td>\n",
       "      <td>-0.230535</td>\n",
       "      <td>0.026538</td>\n",
       "      <td>1.000000</td>\n",
       "      <td>-0.199763</td>\n",
       "      <td>-0.358747</td>\n",
       "    </tr>\n",
       "    <tr>\n",
       "      <th>temperature_55</th>\n",
       "      <td>0.055408</td>\n",
       "      <td>NaN</td>\n",
       "      <td>0.105586</td>\n",
       "      <td>0.188113</td>\n",
       "      <td>-0.124843</td>\n",
       "      <td>0.124843</td>\n",
       "      <td>-0.060732</td>\n",
       "      <td>-0.068803</td>\n",
       "      <td>0.068803</td>\n",
       "      <td>-0.004483</td>\n",
       "      <td>0.004483</td>\n",
       "      <td>-0.188428</td>\n",
       "      <td>-0.056163</td>\n",
       "      <td>0.256010</td>\n",
       "      <td>-0.199763</td>\n",
       "      <td>1.000000</td>\n",
       "      <td>-0.842956</td>\n",
       "    </tr>\n",
       "    <tr>\n",
       "      <th>temperature_80</th>\n",
       "      <td>-0.051589</td>\n",
       "      <td>NaN</td>\n",
       "      <td>-0.153847</td>\n",
       "      <td>-0.132610</td>\n",
       "      <td>0.068328</td>\n",
       "      <td>-0.068328</td>\n",
       "      <td>0.075421</td>\n",
       "      <td>0.003743</td>\n",
       "      <td>-0.003743</td>\n",
       "      <td>0.019569</td>\n",
       "      <td>-0.019569</td>\n",
       "      <td>0.044659</td>\n",
       "      <td>0.180078</td>\n",
       "      <td>-0.258454</td>\n",
       "      <td>-0.358747</td>\n",
       "      <td>-0.842956</td>\n",
       "      <td>1.000000</td>\n",
       "    </tr>\n",
       "  </tbody>\n",
       "</table>\n",
       "</div>"
      ],
      "text/plain": [
       "                             has_children  toCoupon_GEQ5min  \\\n",
       "has_children                     1.000000               NaN   \n",
       "toCoupon_GEQ5min                      NaN               NaN   \n",
       "toCoupon_GEQ15min                0.102322               NaN   \n",
       "toCoupon_GEQ25min                0.010651               NaN   \n",
       "direction_same                  -0.043098               NaN   \n",
       "direction_opp                    0.043098               NaN   \n",
       "Y                               -0.013658               NaN   \n",
       "expiration_1d                    0.003294               NaN   \n",
       "expiration_2h                   -0.003294               NaN   \n",
       "gender_Female                    0.135718               NaN   \n",
       "gender_Male                     -0.135718               NaN   \n",
       "destination_Home                -0.025301               NaN   \n",
       "destination_No Urgent Place      0.011551               NaN   \n",
       "destination_Work                 0.011732               NaN   \n",
       "temperature_30                  -0.002176               NaN   \n",
       "temperature_55                   0.055408               NaN   \n",
       "temperature_80                  -0.051589               NaN   \n",
       "\n",
       "                             toCoupon_GEQ15min  toCoupon_GEQ25min  \\\n",
       "has_children                          0.102322           0.010651   \n",
       "toCoupon_GEQ5min                           NaN                NaN   \n",
       "toCoupon_GEQ15min                     1.000000           0.279968   \n",
       "toCoupon_GEQ25min                     0.279968           1.000000   \n",
       "direction_same                       -0.292716          -0.139874   \n",
       "direction_opp                         0.292716           0.139874   \n",
       "Y                                    -0.094128          -0.089673   \n",
       "expiration_1d                        -0.074250          -0.232383   \n",
       "expiration_2h                         0.074250           0.232383   \n",
       "gender_Female                         0.008729           0.006325   \n",
       "gender_Male                          -0.008729          -0.006325   \n",
       "destination_Home                     -0.179016           0.100899   \n",
       "destination_No Urgent Place           0.000724          -0.314072   \n",
       "destination_Work                      0.179083           0.271055   \n",
       "temperature_30                        0.097008          -0.084861   \n",
       "temperature_55                        0.105586           0.188113   \n",
       "temperature_80                       -0.153847          -0.132610   \n",
       "\n",
       "                             direction_same  direction_opp         Y  \\\n",
       "has_children                      -0.043098       0.043098 -0.013658   \n",
       "toCoupon_GEQ5min                        NaN            NaN       NaN   \n",
       "toCoupon_GEQ15min                 -0.292716       0.292716 -0.094128   \n",
       "toCoupon_GEQ25min                 -0.139874       0.139874 -0.089673   \n",
       "direction_same                     1.000000      -1.000000  0.029033   \n",
       "direction_opp                     -1.000000       1.000000 -0.029033   \n",
       "Y                                  0.029033      -0.029033  1.000000   \n",
       "expiration_1d                      0.107192      -0.107192  0.150555   \n",
       "expiration_2h                     -0.107192       0.107192 -0.150555   \n",
       "gender_Female                      0.002088      -0.002088 -0.010778   \n",
       "gender_Male                       -0.002088       0.002088  0.010778   \n",
       "destination_Home                   0.230938      -0.230938 -0.147284   \n",
       "destination_No Urgent Place       -0.518614       0.518614  0.176650   \n",
       "destination_Work                   0.382922      -0.382922 -0.061454   \n",
       "temperature_30                     0.092163      -0.092163 -0.031992   \n",
       "temperature_55                    -0.124843       0.124843 -0.060732   \n",
       "temperature_80                     0.068328      -0.068328  0.075421   \n",
       "\n",
       "                             expiration_1d  expiration_2h  gender_Female  \\\n",
       "has_children                      0.003294      -0.003294       0.135718   \n",
       "toCoupon_GEQ5min                       NaN            NaN            NaN   \n",
       "toCoupon_GEQ15min                -0.074250       0.074250       0.008729   \n",
       "toCoupon_GEQ25min                -0.232383       0.232383       0.006325   \n",
       "direction_same                    0.107192      -0.107192       0.002088   \n",
       "direction_opp                    -0.107192       0.107192      -0.002088   \n",
       "Y                                 0.150555      -0.150555      -0.010778   \n",
       "expiration_1d                     1.000000      -1.000000      -0.002705   \n",
       "expiration_2h                    -1.000000       1.000000       0.002705   \n",
       "gender_Female                    -0.002705       0.002705       1.000000   \n",
       "gender_Male                       0.002705      -0.002705      -1.000000   \n",
       "destination_Home                  0.042481      -0.042481      -0.003965   \n",
       "destination_No Urgent Place       0.050963      -0.050963      -0.008749   \n",
       "destination_Work                 -0.103141       0.103141       0.014361   \n",
       "temperature_30                    0.112561      -0.112561      -0.027864   \n",
       "temperature_55                   -0.068803       0.068803      -0.004483   \n",
       "temperature_80                    0.003743      -0.003743       0.019569   \n",
       "\n",
       "                             gender_Male  destination_Home  \\\n",
       "has_children                   -0.135718         -0.025301   \n",
       "toCoupon_GEQ5min                     NaN               NaN   \n",
       "toCoupon_GEQ15min              -0.008729         -0.179016   \n",
       "toCoupon_GEQ25min              -0.006325          0.100899   \n",
       "direction_same                 -0.002088          0.230938   \n",
       "direction_opp                   0.002088         -0.230938   \n",
       "Y                               0.010778         -0.147284   \n",
       "expiration_1d                   0.002705          0.042481   \n",
       "expiration_2h                  -0.002705         -0.042481   \n",
       "gender_Female                  -1.000000         -0.003965   \n",
       "gender_Male                     1.000000          0.003965   \n",
       "destination_Home                0.003965          1.000000   \n",
       "destination_No Urgent Place     0.008749         -0.594277   \n",
       "destination_Work               -0.014361         -0.300384   \n",
       "temperature_30                  0.027864          0.245597   \n",
       "temperature_55                  0.004483         -0.188428   \n",
       "temperature_80                 -0.019569          0.044659   \n",
       "\n",
       "                             destination_No Urgent Place  destination_Work  \\\n",
       "has_children                                    0.011551          0.011732   \n",
       "toCoupon_GEQ5min                                     NaN               NaN   \n",
       "toCoupon_GEQ15min                               0.000724          0.179083   \n",
       "toCoupon_GEQ25min                              -0.314072          0.271055   \n",
       "direction_same                                 -0.518614          0.382922   \n",
       "direction_opp                                   0.518614         -0.382922   \n",
       "Y                                               0.176650         -0.061454   \n",
       "expiration_1d                                   0.050963         -0.103141   \n",
       "expiration_2h                                  -0.050963          0.103141   \n",
       "gender_Female                                  -0.008749          0.014361   \n",
       "gender_Male                                     0.008749         -0.014361   \n",
       "destination_Home                               -0.594277         -0.300384   \n",
       "destination_No Urgent Place                     1.000000         -0.588606   \n",
       "destination_Work                               -0.588606          1.000000   \n",
       "temperature_30                                 -0.230535          0.026538   \n",
       "temperature_55                                 -0.056163          0.256010   \n",
       "temperature_80                                  0.180078         -0.258454   \n",
       "\n",
       "                             temperature_30  temperature_55  temperature_80  \n",
       "has_children                      -0.002176        0.055408       -0.051589  \n",
       "toCoupon_GEQ5min                        NaN             NaN             NaN  \n",
       "toCoupon_GEQ15min                  0.097008        0.105586       -0.153847  \n",
       "toCoupon_GEQ25min                 -0.084861        0.188113       -0.132610  \n",
       "direction_same                     0.092163       -0.124843        0.068328  \n",
       "direction_opp                     -0.092163        0.124843       -0.068328  \n",
       "Y                                 -0.031992       -0.060732        0.075421  \n",
       "expiration_1d                      0.112561       -0.068803        0.003743  \n",
       "expiration_2h                     -0.112561        0.068803       -0.003743  \n",
       "gender_Female                     -0.027864       -0.004483        0.019569  \n",
       "gender_Male                        0.027864        0.004483       -0.019569  \n",
       "destination_Home                   0.245597       -0.188428        0.044659  \n",
       "destination_No Urgent Place       -0.230535       -0.056163        0.180078  \n",
       "destination_Work                   0.026538        0.256010       -0.258454  \n",
       "temperature_30                     1.000000       -0.199763       -0.358747  \n",
       "temperature_55                    -0.199763        1.000000       -0.842956  \n",
       "temperature_80                    -0.358747       -0.842956        1.000000  "
      ]
     },
     "execution_count": 64,
     "metadata": {},
     "output_type": "execute_result"
    }
   ],
   "source": [
    "corr = df_encoded.corr(numeric_only=True)\n",
    "corr"
   ]
  },
  {
   "cell_type": "code",
   "execution_count": 65,
   "metadata": {},
   "outputs": [
    {
     "data": {
      "text/plain": [
       "has_children                  -0.013658\n",
       "toCoupon_GEQ5min                    NaN\n",
       "toCoupon_GEQ15min             -0.094128\n",
       "toCoupon_GEQ25min             -0.089673\n",
       "direction_same                 0.029033\n",
       "direction_opp                 -0.029033\n",
       "Y                              1.000000\n",
       "expiration_1d                  0.150555\n",
       "expiration_2h                 -0.150555\n",
       "gender_Female                 -0.010778\n",
       "gender_Male                    0.010778\n",
       "destination_Home              -0.147284\n",
       "destination_No Urgent Place    0.176650\n",
       "destination_Work              -0.061454\n",
       "temperature_30                -0.031992\n",
       "temperature_55                -0.060732\n",
       "temperature_80                 0.075421\n",
       "Name: Y, dtype: float64"
      ]
     },
     "execution_count": 65,
     "metadata": {},
     "output_type": "execute_result"
    }
   ],
   "source": [
    "# Looking at the correlation with Y - whether they accepted the coffee coupon\n",
    "corr.loc['Y', :]"
   ]
  },
  {
   "cell_type": "markdown",
   "metadata": {},
   "source": [
    "It looks like the notable significant correlations (> 0.1) are\n",
    "* expiration_1d:                  0.150555\n",
    "* destination_No Urgent Place:    0.176650"
   ]
  },
  {
   "cell_type": "code",
   "execution_count": 67,
   "metadata": {},
   "outputs": [
    {
     "data": {
      "text/plain": [
       "<Axes: title={'center': 'Coupon Acceptance vs Income'}, xlabel='Income in $', ylabel='Coupon Acceptance'>"
      ]
     },
     "execution_count": 67,
     "metadata": {},
     "output_type": "execute_result"
    },
    {
     "data": {
      "image/png": "[encoded data removed]",
      "text/plain": [
       "<Figure size 640x480 with 1 Axes>"
      ]
     },
     "metadata": {},
     "output_type": "display_data"
    }
   ],
   "source": [
    "plt.title('Coupon Acceptance vs Income')\n",
    "plt.xlabel('Income in $')\n",
    "plt.ylabel('Coupon Acceptance')\n",
    "plt.xticks(rotation=90)\n",
    "sns.barplot(df_coffee, x='income', y='Y', order=['Less than $12500', '$12500 - $24999', '$25000 - $37499', '$37500 - $49999', '$50000 - $62499', '$62500 - $74999', '$75000 - $87499', '$87500 - $99999', '$100000 or More'])"
   ]
  },
  {
   "cell_type": "code",
   "execution_count": 68,
   "metadata": {},
   "outputs": [
    {
     "data": {
      "text/plain": [
       "income\n",
       "$25000 - $37499     617\n",
       "$12500 - $24999     565\n",
       "$37500 - $49999     559\n",
       "$100000 or More     525\n",
       "$50000 - $62499     512\n",
       "Less than $12500    298\n",
       "$62500 - $74999     271\n",
       "$87500 - $99999     241\n",
       "$75000 - $87499     228\n",
       "Name: count, dtype: int64"
      ]
     },
     "execution_count": 68,
     "metadata": {},
     "output_type": "execute_result"
    }
   ],
   "source": [
    "df_coffee['income'].value_counts()"
   ]
  },
  {
   "cell_type": "markdown",
   "metadata": {},
   "source": [
    "Based on the bar graph above and seeing there's enough data amongst all income brackets, it looks like the acceptance rate of the income levels of \\\\$62,500 - \\\\$74,999 and \\\\$75,000 - \\\\$87,499 are the lowest amongst the rest of the income brackets, with the former around .45 and the latter around .3. \n",
    "\n",
    "Thus, it looks like generally people around the combined income bracket of \\\\$62,500 - \\\\$87,499 are less likely to accept the coupon."
   ]
  },
  {
   "cell_type": "code",
   "execution_count": 70,
   "metadata": {},
   "outputs": [
    {
     "data": {
      "text/plain": [
       "CoffeeHouse\n",
       "less1    1052\n",
       "1~3      1019\n",
       "never     896\n",
       "4~8       507\n",
       "gt8       342\n",
       "Name: count, dtype: int64"
      ]
     },
     "execution_count": 70,
     "metadata": {},
     "output_type": "execute_result"
    }
   ],
   "source": [
    "df_coffee['CoffeeHouse'].value_counts()"
   ]
  },
  {
   "cell_type": "code",
   "execution_count": 71,
   "metadata": {},
   "outputs": [],
   "source": [
    "coffee_mapping = {\n",
    "    'never': 0,\n",
    "    'less1': 0,\n",
    "    '1~3': 1, \n",
    "    '4~8': 1,\n",
    "    'gt8': 1,\n",
    "}\n",
    "\n",
    "coffee_age_mapping = {\n",
    "    '21': 0,\n",
    "    '26': 1,\n",
    "    '31': 1,\n",
    "    '50plus': 1,\n",
    "    '36': 1,\n",
    "    '41': 1,\n",
    "    '46': 1,\n",
    "    'below21': 0,\n",
    "}\n",
    "\n",
    "df_coffee['coffee_gte_1'] = df_coffee['CoffeeHouse'].map(coffee_mapping)\n",
    "df_coffee['age_lt_30'] = df_coffee['age'].map(coffee_age_mapping)"
   ]
  },
  {
   "cell_type": "code",
   "execution_count": 72,
   "metadata": {},
   "outputs": [
    {
     "data": {
      "text/html": [
       "<div>\n",
       "<style scoped>\n",
       "    .dataframe tbody tr th:only-of-type {\n",
       "        vertical-align: middle;\n",
       "    }\n",
       "\n",
       "    .dataframe tbody tr th {\n",
       "        vertical-align: top;\n",
       "    }\n",
       "\n",
       "    .dataframe thead th {\n",
       "        text-align: right;\n",
       "    }\n",
       "</style>\n",
       "<table border=\"1\" class=\"dataframe\">\n",
       "  <thead>\n",
       "    <tr style=\"text-align: right;\">\n",
       "      <th></th>\n",
       "      <th>Y</th>\n",
       "      <th>coffee_gte_1</th>\n",
       "      <th>age_lt_30</th>\n",
       "    </tr>\n",
       "  </thead>\n",
       "  <tbody>\n",
       "    <tr>\n",
       "      <th>Y</th>\n",
       "      <td>1.000000</td>\n",
       "      <td>0.318583</td>\n",
       "      <td>-0.052810</td>\n",
       "    </tr>\n",
       "    <tr>\n",
       "      <th>coffee_gte_1</th>\n",
       "      <td>0.318583</td>\n",
       "      <td>1.000000</td>\n",
       "      <td>-0.053688</td>\n",
       "    </tr>\n",
       "    <tr>\n",
       "      <th>age_lt_30</th>\n",
       "      <td>-0.052810</td>\n",
       "      <td>-0.053688</td>\n",
       "      <td>1.000000</td>\n",
       "    </tr>\n",
       "  </tbody>\n",
       "</table>\n",
       "</div>"
      ],
      "text/plain": [
       "                     Y  coffee_gte_1  age_lt_30\n",
       "Y             1.000000      0.318583  -0.052810\n",
       "coffee_gte_1  0.318583      1.000000  -0.053688\n",
       "age_lt_30    -0.052810     -0.053688   1.000000"
      ]
     },
     "execution_count": 72,
     "metadata": {},
     "output_type": "execute_result"
    }
   ],
   "source": [
    "df_coffee[['Y', 'coffee_gte_1', 'age_lt_30']].corr()"
   ]
  },
  {
   "cell_type": "markdown",
   "metadata": {},
   "source": [
    "Based on the correlation matrix if someone goes to a coffee shop >= once a month, they're likely to accept the coffee coupon."
   ]
  }
 ],
 "metadata": {
  "colab": {
   "provenance": []
  },
  "kernelspec": {
   "display_name": "Python 3 (ipykernel)",
   "language": "python",
   "name": "python3"
  },
  "language_info": {
   "codemirror_mode": {
    "name": "ipython",
    "version": 3
   },
   "file_extension": ".py",
   "mimetype": "text/x-python",
   "name": "python",
   "nbconvert_exporter": "python",
   "pygments_lexer": "ipython3",
   "version": "3.12.7"
  }
 },
 "nbformat": 4,
 "nbformat_minor": 4
}
